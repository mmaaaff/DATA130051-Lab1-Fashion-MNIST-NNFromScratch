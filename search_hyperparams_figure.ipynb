{
 "cells": [
  {
   "cell_type": "markdown",
   "metadata": {},
   "source": [
    "# Preparation"
   ]
  },
  {
   "cell_type": "markdown",
   "metadata": {},
   "source": [
    "### Load the MINIST dataset"
   ]
  },
  {
   "cell_type": "code",
   "execution_count": 109,
   "metadata": {},
   "outputs": [
    {
     "name": "stdout",
     "output_type": "stream",
     "text": [
      "Train*****************************\n",
      "magic\t\t 2051\n",
      "num\t\t 60000\n",
      "rows\t\t 28\n",
      "cols\t\t 28\n",
      "Test******************************\n",
      "magic\t\t 2051\n",
      "num\t\t 10000\n",
      "rows\t\t 28\n",
      "cols\t\t 28\n"
     ]
    }
   ],
   "source": [
    "import cupy as np\n",
    "import numpy as np2\n",
    "import gc\n",
    "from struct import unpack\n",
    "import gzip\n",
    "import matplotlib.pyplot as plt\n",
    "import random\n",
    "from PIL import Image, ImageEnhance\n",
    "from typing import Tuple\n",
    "\n",
    "def read(filepath, show=False):\n",
    "    with gzip.open(filepath, 'rb') as f:\n",
    "        if show:\n",
    "            magic, num, rows, cols = unpack('>4I', f.read(16))\n",
    "            print('magic\\t\\t', magic)\n",
    "            print('num\\t\\t', num)\n",
    "            print('rows\\t\\t', rows)\n",
    "            print('cols\\t\\t', cols)\n",
    "        content=np.frombuffer(f.read(), dtype=np.uint8)\n",
    "    return content\n",
    "\n",
    "print('Train*****************************')\n",
    "train_imgs = read(r'dataset\\MNIST\\train-images-idx3-ubyte.gz', show=True).reshape(-1, 28, 28)\n",
    "train_labels = read(r'dataset\\MNIST\\train-labels-idx1-ubyte.gz')\n",
    "\n",
    "print('Test******************************')\n",
    "test_imgs = read(r'dataset\\MNIST\\t10k-images-idx3-ubyte.gz', show=True).reshape(-1, 28, 28)\n",
    "test_labels = read(r'dataset/MNIST/t10k-labels-idx1-ubyte.gz')\n",
    "\n",
    "# X_train, y_train = mnist_reader.load_mnist('fashion_mnist/data/fashion', kind='train')\n",
    "# X_test, y_test = mnist_reader.load_mnist('fashion_mnist/data/fashion', kind='t10k')\n"
   ]
  },
  {
   "cell_type": "code",
   "execution_count": 110,
   "metadata": {},
   "outputs": [
    {
     "name": "stdout",
     "output_type": "stream",
     "text": [
      "train images shape\t (60000, 28, 28)\n",
      "train labels shape\t (60000,)\n",
      "test images shape\t (10000, 28, 28)\n",
      "test labels shape\t (10000,)\n",
      "[5 0 4 1 9 2 1 3 1 4]\n"
     ]
    }
   ],
   "source": [
    "train_labels = train_labels[-60000:]\n",
    "test_labels = test_labels[-10000:]\n",
    "print('train images shape\\t', train_imgs.shape)\n",
    "print('train labels shape\\t', train_labels.shape)\n",
    "print('test images shape\\t', test_imgs.shape)\n",
    "print('test labels shape\\t', test_labels.shape)\n",
    "print(train_labels[0:10])"
   ]
  },
  {
   "cell_type": "markdown",
   "metadata": {},
   "source": [
    "### Import package MyDL which is written based on Numpy"
   ]
  },
  {
   "cell_type": "code",
   "execution_count": 111,
   "metadata": {},
   "outputs": [],
   "source": [
    "import MyDL\n",
    "import MyDL.data\n",
    "import MyDL.optimizer as optim\n",
    "import MyDL.nn as nn"
   ]
  },
  {
   "cell_type": "markdown",
   "metadata": {},
   "source": [
    "# MLP model"
   ]
  },
  {
   "cell_type": "code",
   "execution_count": 112,
   "metadata": {},
   "outputs": [],
   "source": [
    "class mnist_dataset(MyDL.data.Dataset):\n",
    "    def __init__(self, images:MyDL.MyTensor, labels, augment=False, augment_prob=0.5, unfold=False):\n",
    "        self.images = images\n",
    "        self.labels = labels\n",
    "        self.augment = augment\n",
    "        self.augment_prob = augment_prob\n",
    "        self.unfold = unfold\n",
    "\n",
    "    def __len__(self):\n",
    "        return len(self.images)\n",
    "\n",
    "    def __getitem__(self, index):\n",
    "        images = self.images[index]\n",
    "        labels = self.labels[index]\n",
    "\n",
    "        # Data Augmentation\n",
    "        if self.augment:\n",
    "            images = np.asnumpy(images.data)\n",
    "            assert images.dtype == np.uint8, \"Image dtype must be uint8 for augmentation.\"\n",
    "            hflip_prob = 0.5\n",
    "            rotate_degrees = 15\n",
    "            brightness_range = (0.8, 1.2)\n",
    "\n",
    "            n, c, h, w = images.shape\n",
    "            augmented_images_list = []\n",
    "            original_dtype = images.dtype\n",
    "\n",
    "            for i in range(n):\n",
    "                do_augentation = random.random() < self.augment_prob\n",
    "                if not do_augentation:\n",
    "                    augmented_images_list.append(images[i])\n",
    "                    continue\n",
    "\n",
    "                single_image_chw = images[i]  #(c, h, w)\n",
    "\n",
    "                img_np_hw = single_image_chw[0]  # (h, w)\n",
    "\n",
    "                pil_mode = 'L'\n",
    "\n",
    "                img_pil = Image.fromarray(img_np_hw, mode=pil_mode)\n",
    "\n",
    "                # --- Augmentation ---\n",
    "                # Flipping\n",
    "                if random.random() < hflip_prob:\n",
    "                    img_pil = img_pil.transpose(Image.FLIP_LEFT_RIGHT)\n",
    "                # Rotating\n",
    "                if rotate_degrees > 0:\n",
    "                    angle = random.uniform(-rotate_degrees, rotate_degrees)\n",
    "                    # 使用 BICUBIC 插值获得更好的旋转质量\n",
    "                    fill_value = (0,) * c\n",
    "                    img_pil = img_pil.rotate(angle, resample=Image.BICUBIC, expand=False, fillcolor=fill_value)\n",
    "                # Brightness Adjustment\n",
    "                if brightness_range != (1.0, 1.0):\n",
    "                    factor = random.uniform(brightness_range[0], brightness_range[1])\n",
    "                    enhancer = ImageEnhance.Brightness(img_pil)\n",
    "                    img_pil = enhancer.enhance(factor)\n",
    "                # Contrast Adjustment\n",
    "                if random.random() < 0.3:\n",
    "                    contrast_factor = random.uniform(0.8, 1.2)\n",
    "                    enhancer = ImageEnhance.Contrast(img_pil)\n",
    "                    img_pil = enhancer.enhance(contrast_factor)\n",
    "                # Color Adjustment\n",
    "                if random.random() < 0.3:\n",
    "                    color_factor = random.uniform(0.8, 1.2)\n",
    "                    enhancer = ImageEnhance.Color(img_pil)\n",
    "                    img_pil = enhancer.enhance(color_factor)\n",
    "\n",
    "                augmented_img_np_hwc = np.expand_dims(np.array(img_pil), axis=0)  # (1, h, w)\n",
    "                if augmented_img_np_hwc.shape != (h, w, c):  # shape should not change if everything is correct\n",
    "                    augmented_images_list.append(single_image_chw)\n",
    "                    continue\n",
    "                augmented_img_np_chw = np.transpose(augmented_img_np_hwc, (2, 0, 1))  # (c, h, w)\n",
    "                augmented_images_list.append(augmented_img_np_chw)\n",
    "\n",
    "            # images = np.stack(augmented_images_list, axis=0)\n",
    "            if self.unfold:\n",
    "                images = images.reshape(-1, 28 * 28)\n",
    "            images = MyDL.MyTensor(np.array(images), requires_grad=False)\n",
    "        \n",
    "        else:\n",
    "            images = images.data\n",
    "            if self.unfold:\n",
    "                images = images.reshape(-1, 28 * 28)\n",
    "            images = MyDL.MyTensor(np.array(images), requires_grad=False)\n",
    "\n",
    "        return images, labels"
   ]
  },
  {
   "cell_type": "markdown",
   "metadata": {},
   "source": [
    "### Data preparation"
   ]
  },
  {
   "cell_type": "code",
   "execution_count": 113,
   "metadata": {},
   "outputs": [],
   "source": [
    "train_imgs = train_imgs.reshape(-1, 1, 28, 28)\n",
    "test_imgs = test_imgs.reshape(-1, 1, 28, 28)\n",
    "\n",
    "X_train_mytensor = MyDL.MyTensor(train_imgs[:50000], requires_grad=False)\n",
    "y_train_mytensor = MyDL.MyTensor(train_labels[:50000], requires_grad=False)\n",
    "X_val_mytensor = MyDL.MyTensor(train_imgs[50000:], requires_grad=False)\n",
    "y_val_mytensor = MyDL.MyTensor(train_labels[50000:], requires_grad=False)\n",
    "X_test_mytensor = MyDL.MyTensor(test_imgs, requires_grad=False)\n",
    "y_test_mytensor = MyDL.MyTensor(test_labels, requires_grad=False)\n",
    "\n",
    "train_data = mnist_dataset(X_train_mytensor, y_train_mytensor, augment=True, augment_prob=0.5, unfold=True)\n",
    "val_data = mnist_dataset(X_val_mytensor, y_val_mytensor)\n",
    "test_data = mnist_dataset(X_test_mytensor, y_test_mytensor)"
   ]
  },
  {
   "cell_type": "markdown",
   "metadata": {},
   "source": [
    "### Network Structure"
   ]
  },
  {
   "cell_type": "code",
   "execution_count": 114,
   "metadata": {},
   "outputs": [],
   "source": [
    "class MLP3(nn.NeuralNetwork):\n",
    "    def __init__(self, hidden_size1=100, hidden_size2=10, activation='relu'):\n",
    "        super().__init__()\n",
    "        self.hidden_size1 = hidden_size1\n",
    "        self.hidden_size2 = hidden_size2\n",
    "        self.activ_func = activation\n",
    "        self.fc1 = nn.Linear(784, hidden_size1, initialize='random')\n",
    "        self.dropout1 = nn.Dropout(0.5)\n",
    "        self.fc2 = nn.Linear(hidden_size1, hidden_size2, initialize='random')\n",
    "        self.dropout2 = nn.Dropout(0.5)\n",
    "        self.fc3 = nn.Linear(hidden_size2, 10, initialize='random')\n",
    "        if activation == 'relu':\n",
    "            self.activation = nn.ReLU()\n",
    "        elif activation == 'tanh':\n",
    "            self.activation = nn.Tanh()\n",
    "        else:\n",
    "            raise ValueError('Unknown activation function')\n",
    "        self.softmax = nn.Softmax()\n",
    "        self.BN1 = nn.BatchNorm1d(784)\n",
    "        self.BN2 = nn.BatchNorm1d(hidden_size1)\n",
    "        self.BN3 = nn.BatchNorm1d(hidden_size2)\n",
    "    def forward(self, x):\n",
    "        x = self.BN1(x)\n",
    "        x = self.fc1(x)\n",
    "        x = self.BN2(x)\n",
    "        x = self.activation(x)\n",
    "        x = self.dropout1(x)\n",
    "        x = self.fc2(x)\n",
    "        x = self.BN3(x)\n",
    "        x = self.activation(x)\n",
    "        x = self.dropout2(x)\n",
    "        x = self.fc3(x)\n",
    "        x = self.softmax(x)\n",
    "        return x"
   ]
  },
  {
   "cell_type": "markdown",
   "metadata": {},
   "source": [
    "### Train model and Search the best hyperparameters"
   ]
  },
  {
   "cell_type": "code",
   "execution_count": null,
   "metadata": {},
   "outputs": [
    {
     "name": "stdout",
     "output_type": "stream",
     "text": [
      "model: MLP3_(600,100)_relu_L2-0.0_lr-0.05_augment=True\n",
      "Model already exists. Loading model from figure/model_params/MLP3_(600,100)_relu_L2-0.0_lr-0.05.npz...\n",
      "Model loaded successfully.\n",
      "Model is not going to be trained further as continue_if_exists is set to False.\n",
      "\n",
      "Results saved to figure/results\\MLP3_(600,100)_relu_L2-0.0_lr-0.05_augment=True.npz.\n"
     ]
    }
   ],
   "source": [
    "continue_if_exists = False\n",
    "highest_val_acc = 0\n",
    "num_epochs = 30\n",
    "for activ_func in ['relu']:#, 'tanh']:\n",
    "    for hidden_size1, hidden_size2 in [(600, 100)]:#, (10, 10)]:\n",
    "        for lambda_L2 in [0.0]:#, 0.0001, 0.001]:\n",
    "            for lr in [0.05]:#, 0.01, 0.001]:\n",
    "                model = None\n",
    "                gc.collect()\n",
    "\n",
    "                model_name = 'MLP3_({},{})_{}_L2-{}_lr-{}_augment={}'.format(hidden_size1, hidden_size2, activ_func, lambda_L2, lr, train_data.augment)\n",
    "                print(f'model: {model_name}')\n",
    "\n",
    "                model = MLP3(hidden_size1=hidden_size1, hidden_size2=hidden_size2, activation=activ_func)\n",
    "                criterion = nn.CrossEntropyLoss()\n",
    "                optimizer = optim.Adam(model.params, lr=lr, decay_rate=0.2)\n",
    "\n",
    "                result = MyDL.train(model, criterion, optimizer, train_data, val_data, num_epochs=num_epochs, batch_size=256, lambda_L2=lambda_L2, result_path='figure/results', model_path='figure/model_params', model_name=model_name, continue_if_exists=continue_if_exists, calc_val_loss_every_iteration=False)\n",
    "\n",
    "                MyDL.save_result(model_name=model_name, result_dict=result, path='figure/results')\n",
    "                if result['val_acc_epoch'][-1] > highest_val_acc:\n",
    "                    highest_val_acc = result['val_acc_epoch'][-1]\n",
    "                    best_model_name = model_name\n",
    "                    best_hyperparams = (hidden_size1, hidden_size2, activ_func, lambda_L2, lr)"
   ]
  },
  {
   "cell_type": "markdown",
   "metadata": {},
   "source": [
    "### Display the best model"
   ]
  },
  {
   "cell_type": "code",
   "execution_count": 116,
   "metadata": {},
   "outputs": [
    {
     "name": "stdout",
     "output_type": "stream",
     "text": [
      "Best model: MLP3_(600,100)_relu_L2-0.0_lr-0.05_augment=True\n",
      "Train loss: 0.105  Val loss: 0.108  Train acc: 0.966  Val acc: 0.975\n",
      "Hyperparameters: (600, 100, 'relu', 0.0, 0.05)\n"
     ]
    }
   ],
   "source": [
    "import os\n",
    "print(f'Best model: {best_model_name}')\n",
    "with np.load(os.path.join('figure/results', f'{best_model_name}.npz')) as result:\n",
    "    train_loss = result['train_loss_epoch']\n",
    "    val_loss = result['val_loss_epoch']\n",
    "    train_acc = result['train_acc_epoch']\n",
    "    val_acc = result['val_acc_epoch']\n",
    "print(f'Train loss: {train_loss[-1]:.3}  Val loss: {val_loss[-1]:.3}  Train acc: {train_acc[-1]:.3}  Val acc: {val_acc[-1]:.3}')\n",
    "print(f'Hyperparameters: {best_hyperparams}')"
   ]
  },
  {
   "cell_type": "markdown",
   "metadata": {},
   "source": [
    "# ResNet"
   ]
  },
  {
   "cell_type": "markdown",
   "metadata": {},
   "source": [
    "### Data Preparation"
   ]
  },
  {
   "cell_type": "code",
   "execution_count": 117,
   "metadata": {},
   "outputs": [],
   "source": [
    "X_train_mytensor = MyDL.MyTensor(train_imgs[:50000], requires_grad=False)\n",
    "y_train_mytensor = MyDL.MyTensor(train_labels[:50000], requires_grad=False)\n",
    "X_val_mytensor = MyDL.MyTensor(train_imgs[50000:], requires_grad=False)\n",
    "y_val_mytensor = MyDL.MyTensor(train_labels[50000:], requires_grad=False)\n",
    "X_test_mytensor = MyDL.MyTensor(test_imgs, requires_grad=False)\n",
    "y_test_mytensor = MyDL.MyTensor(test_labels, requires_grad=False)\n",
    "\n",
    "train_data = mnist_dataset(X_train_mytensor, y_train_mytensor, augment=True, augment_prob=0.5, unfold=False)\n",
    "val_data = mnist_dataset(X_val_mytensor, y_val_mytensor)\n",
    "test_data = mnist_dataset(X_test_mytensor, y_test_mytensor)"
   ]
  },
  {
   "cell_type": "markdown",
   "metadata": {},
   "source": [
    "### Network Structure"
   ]
  },
  {
   "cell_type": "code",
   "execution_count": 118,
   "metadata": {},
   "outputs": [],
   "source": [
    "# Define the residual block\n",
    "class ResiduleBlock(nn.NeuralNetwork):\n",
    "    def __init__(self, in_channels, out_channels, stride=1):\n",
    "        super().__init__()\n",
    "        self.conv1 = nn.Conv2D(in_channels, out_channels, kernel_size=3,\n",
    "                               stride=stride, padding=1, bias=False)\n",
    "        self.bn1 = nn.BatchNorm2d(out_channels)\n",
    "        self.conv2 = nn.Conv2D(out_channels, out_channels, kernel_size=3,\n",
    "                               stride=1, padding=1, bias=False)\n",
    "        self.bn2 = nn.BatchNorm2d(out_channels)\n",
    "\n",
    "        # When channel number not match or stride != 1, use 1x1 conv before jump connect\n",
    "        self.cross_block = False\n",
    "        if stride != 1 or in_channels != out_channels:\n",
    "            self.cross_block = True\n",
    "            self.conv_shortcut = nn.Conv2D(in_channels, out_channels, kernel_size=1,\n",
    "                                           padding=0, stride=stride, bias=False)\n",
    "            self.bn_shortcut = nn.BatchNorm2d(out_channels)\n",
    "    \n",
    "    def forward(self, x):\n",
    "        out = nn.ReLU.forward(self.bn1(self.conv1(x)))\n",
    "        out = self.bn2(self.conv2(out))\n",
    "        if self.cross_block:\n",
    "            x = self.conv_shortcut(x)\n",
    "            x = self.bn_shortcut(x)\n",
    "        out = out + x  # 残差连接\n",
    "        out = nn.ReLU.forward(out)\n",
    "        return out\n",
    "    \n",
    "class ResNetMNIST(nn.NeuralNetwork):\n",
    "    \"\"\"\n",
    "    input: (batch, 1, 28, 28)\n",
    "    ↓\n",
    "    Conv 3x3, 16 channels + BN + ReLU\n",
    "    ↓\n",
    "    ResiduleBlockx2 (channel = 16, stride=1)\n",
    "    ↓\n",
    "    ResiduleBlockx2 (channel = 32, stride=2)\n",
    "    ↓\n",
    "    ResiduleBlockx2 (channel = 64, stride=2)\n",
    "    ↓\n",
    "    Average Polling (len 64 vector)\n",
    "    ↓\n",
    "    FC layer (64 -> 10)\n",
    "    ↓\n",
    "    out: (10)\n",
    "    \"\"\"\n",
    "    def __init__(self, block, num_classes=10):\n",
    "        super(ResNetMNIST, self).__init__()\n",
    "        self.in_channels = 16\n",
    "\n",
    "        self.conv = nn.Conv2D(1, 16, kernel_size=3, stride=1, padding=1, bias=False)\n",
    "        self.bn = nn.BatchNorm2d(16)\n",
    "        self.layer1 = self._make_layer(block, 16, 2, stride=1)\n",
    "        self.layer2 = self._make_layer(block, 32, 2, stride=2)\n",
    "        self.layer3 = self._make_layer(block, 64, 2, stride=2)\n",
    "        self.avg_pool = nn.FullAveragePool2d()\n",
    "        # self.dropout = nn.Dropout(0.5)\n",
    "        self.fc = nn.Linear(64, num_classes)\n",
    "\n",
    "    def _make_layer(self, block, out_channels, blocks, stride):\n",
    "        strides = [stride] + [1] * (blocks - 1)\n",
    "        layers = []\n",
    "        for s in strides:\n",
    "            layers.append(block(self.in_channels, out_channels, s))\n",
    "            self.in_channels = out_channels\n",
    "        return nn.Sequential(*layers)\n",
    "\n",
    "    def forward(self, x):\n",
    "        out = nn.ReLU.forward(self.bn(self.conv(x)))\n",
    "        out = self.layer1(out)\n",
    "        out = self.layer2(out)\n",
    "        out = self.layer3(out)\n",
    "        out = self.avg_pool(out)  # (batch, c)\n",
    "        # out = self.dropout(out)  # (batch, c)\n",
    "        out = self.fc(out)\n",
    "        out = nn.Softmax.forward(out)\n",
    "        return out"
   ]
  },
  {
   "cell_type": "markdown",
   "metadata": {},
   "source": [
    "### Train model and Search the best hyperparameters"
   ]
  },
  {
   "cell_type": "code",
   "execution_count": 119,
   "metadata": {},
   "outputs": [
    {
     "name": "stdout",
     "output_type": "stream",
     "text": [
      "model: Resnet_L2-0.0_lr-0.05\n",
      "iter 50\t loss 2.426\n",
      "iter 100\t loss 2.275\n",
      "iter 150\t loss 2.746\n",
      "iter 200\t loss 2.119\n",
      "iter 250\t loss 1.208\n",
      "iter 300\t loss 0.964\n",
      "iter 350\t loss 0.757\n",
      "Epoch 1/20. Training Loss:   2.043 \t Accuracy: 0.447\n",
      "            Validation Loss: 0.712 \t Accuracy: 0.788\n"
     ]
    },
    {
     "ename": "KeyboardInterrupt",
     "evalue": "",
     "output_type": "error",
     "traceback": [
      "\u001b[1;31m---------------------------------------------------------------------------\u001b[0m",
      "\u001b[1;31mKeyboardInterrupt\u001b[0m                         Traceback (most recent call last)",
      "Cell \u001b[1;32mIn[119], line 14\u001b[0m\n\u001b[0;32m     12\u001b[0m criterion \u001b[38;5;241m=\u001b[39m nn\u001b[38;5;241m.\u001b[39mCrossEntropyLoss()\n\u001b[0;32m     13\u001b[0m optimizer \u001b[38;5;241m=\u001b[39m optim\u001b[38;5;241m.\u001b[39mAdam(model\u001b[38;5;241m.\u001b[39mparams, lr\u001b[38;5;241m=\u001b[39mlr, decay_rate\u001b[38;5;241m=\u001b[39m\u001b[38;5;241m0.2\u001b[39m)\n\u001b[1;32m---> 14\u001b[0m result \u001b[38;5;241m=\u001b[39m \u001b[43mMyDL\u001b[49m\u001b[38;5;241;43m.\u001b[39;49m\u001b[43mtrain\u001b[49m\u001b[43m(\u001b[49m\u001b[43mmodel\u001b[49m\u001b[43m,\u001b[49m\u001b[43m \u001b[49m\u001b[43mcriterion\u001b[49m\u001b[43m,\u001b[49m\u001b[43m \u001b[49m\u001b[43moptimizer\u001b[49m\u001b[43m,\u001b[49m\u001b[43m \u001b[49m\n\u001b[0;32m     15\u001b[0m \u001b[43m                    \u001b[49m\u001b[43mtrain_data\u001b[49m\u001b[43m,\u001b[49m\u001b[43m \u001b[49m\u001b[43mval_data\u001b[49m\u001b[43m,\u001b[49m\u001b[43m \u001b[49m\u001b[43mnum_epochs\u001b[49m\u001b[38;5;241;43m=\u001b[39;49m\u001b[43mnum_epochs\u001b[49m\u001b[43m,\u001b[49m\u001b[43m \u001b[49m\n\u001b[0;32m     16\u001b[0m \u001b[43m                    \u001b[49m\u001b[43mbatch_size\u001b[49m\u001b[38;5;241;43m=\u001b[39;49m\u001b[38;5;241;43m128\u001b[39;49m\u001b[43m,\u001b[49m\u001b[43m \u001b[49m\u001b[43mlambda_L2\u001b[49m\u001b[38;5;241;43m=\u001b[39;49m\u001b[43mlambda_L2\u001b[49m\u001b[43m,\u001b[49m\u001b[43m \u001b[49m\n\u001b[0;32m     17\u001b[0m \u001b[43m                    \u001b[49m\u001b[43mresult_path\u001b[49m\u001b[38;5;241;43m=\u001b[39;49m\u001b[38;5;124;43m'\u001b[39;49m\u001b[38;5;124;43mfigure/results\u001b[39;49m\u001b[38;5;124;43m'\u001b[39;49m\u001b[43m,\u001b[49m\u001b[43m \u001b[49m\n\u001b[0;32m     18\u001b[0m \u001b[43m                    \u001b[49m\u001b[43mmodel_path\u001b[49m\u001b[38;5;241;43m=\u001b[39;49m\u001b[38;5;124;43m'\u001b[39;49m\u001b[38;5;124;43mfigure/model_params\u001b[39;49m\u001b[38;5;124;43m'\u001b[39;49m\u001b[43m,\u001b[49m\u001b[43m \u001b[49m\n\u001b[0;32m     19\u001b[0m \u001b[43m                    \u001b[49m\u001b[43mmodel_name\u001b[49m\u001b[38;5;241;43m=\u001b[39;49m\u001b[43mmodel_name\u001b[49m\u001b[43m,\u001b[49m\u001b[43m \u001b[49m\n\u001b[0;32m     20\u001b[0m \u001b[43m                    \u001b[49m\u001b[43mcontinue_if_exists\u001b[49m\u001b[38;5;241;43m=\u001b[39;49m\u001b[43mcontinue_if_exists\u001b[49m\u001b[43m,\u001b[49m\u001b[43m \u001b[49m\u001b[43mcalc_val_loss_every_iteration\u001b[49m\u001b[38;5;241;43m=\u001b[39;49m\u001b[38;5;28;43;01mFalse\u001b[39;49;00m\u001b[43m)\u001b[49m\n\u001b[0;32m     21\u001b[0m \u001b[38;5;28;01mif\u001b[39;00m \u001b[38;5;129;01mnot\u001b[39;00m (\u001b[38;5;129;01mnot\u001b[39;00m continue_if_exists \u001b[38;5;129;01mand\u001b[39;00m result[\u001b[38;5;124m'\u001b[39m\u001b[38;5;124mcontinued_train\u001b[39m\u001b[38;5;124m'\u001b[39m]):\n\u001b[0;32m     22\u001b[0m     MyDL\u001b[38;5;241m.\u001b[39msave_result(model_name\u001b[38;5;241m=\u001b[39mmodel_name, result_dict\u001b[38;5;241m=\u001b[39mresult, path\u001b[38;5;241m=\u001b[39m\u001b[38;5;124m'\u001b[39m\u001b[38;5;124mfigure/results\u001b[39m\u001b[38;5;124m'\u001b[39m)\n",
      "File \u001b[1;32md:\\files\\2025spring\\homework\\DL\\PJ1\\DATA130051-Lab1-Fashion-MNIST-NNFromScratch\\MyDL\\basics.py:55\u001b[0m, in \u001b[0;36mtrain\u001b[1;34m(model, criterion, optimizer, train_data, val_data, num_epochs, batch_size, lambda_L2, model_path, model_name, result_path, continue_if_exists, calc_val_loss_every_iteration)\u001b[0m\n\u001b[0;32m     53\u001b[0m \u001b[38;5;28;01mfor\u001b[39;00m param \u001b[38;5;129;01min\u001b[39;00m model\u001b[38;5;241m.\u001b[39mparams:\n\u001b[0;32m     54\u001b[0m     \u001b[38;5;28;01mif\u001b[39;00m param\u001b[38;5;241m.\u001b[39mrequires_grad:\n\u001b[1;32m---> 55\u001b[0m         L2 \u001b[38;5;241m=\u001b[39m L2 \u001b[38;5;241m+\u001b[39m \u001b[43mparam\u001b[49m\u001b[38;5;241;43m.\u001b[39;49m\u001b[43msquare\u001b[49m\u001b[43m(\u001b[49m\u001b[43m)\u001b[49m\u001b[38;5;241m.\u001b[39msum()\u001b[38;5;241m.\u001b[39mitem()\n\u001b[0;32m     56\u001b[0m loss_with_L2 \u001b[38;5;241m=\u001b[39m loss \u001b[38;5;241m+\u001b[39m lambda_L2 \u001b[38;5;241m*\u001b[39m L2\n\u001b[0;32m     57\u001b[0m epoch_training_loss \u001b[38;5;241m+\u001b[39m\u001b[38;5;241m=\u001b[39m loss\u001b[38;5;241m.\u001b[39mdata \u001b[38;5;241m*\u001b[39m \u001b[38;5;28mlen\u001b[39m(X_batch)\n",
      "File \u001b[1;32md:\\files\\2025spring\\homework\\DL\\PJ1\\DATA130051-Lab1-Fashion-MNIST-NNFromScratch\\MyDL\\tensor.py:244\u001b[0m, in \u001b[0;36mMyTensor.square\u001b[1;34m(self)\u001b[0m\n\u001b[0;32m    242\u001b[0m result_data \u001b[38;5;241m=\u001b[39m \u001b[38;5;28mself\u001b[39m\u001b[38;5;241m.\u001b[39mdata \u001b[38;5;241m*\u001b[39m\u001b[38;5;241m*\u001b[39m \u001b[38;5;241m2\u001b[39m\n\u001b[0;32m    243\u001b[0m requires_grad \u001b[38;5;241m=\u001b[39m \u001b[38;5;28mself\u001b[39m\u001b[38;5;241m.\u001b[39mrequires_grad\n\u001b[1;32m--> 244\u001b[0m result \u001b[38;5;241m=\u001b[39m \u001b[43mMyTensor\u001b[49m\u001b[43m(\u001b[49m\u001b[43mresult_data\u001b[49m\u001b[43m,\u001b[49m\u001b[43m \u001b[49m\u001b[43mrequires_grad\u001b[49m\u001b[38;5;241;43m=\u001b[39;49m\u001b[43mrequires_grad\u001b[49m\u001b[43m)\u001b[49m\n\u001b[0;32m    245\u001b[0m \u001b[38;5;28;01mif\u001b[39;00m requires_grad:\n\u001b[0;32m    246\u001b[0m     result\u001b[38;5;241m.\u001b[39mchildren \u001b[38;5;241m=\u001b[39m [\u001b[38;5;28mself\u001b[39m]\n",
      "File \u001b[1;32md:\\files\\2025spring\\homework\\DL\\PJ1\\DATA130051-Lab1-Fashion-MNIST-NNFromScratch\\MyDL\\tensor.py:19\u001b[0m, in \u001b[0;36mMyTensor.__init__\u001b[1;34m(self, data, requires_grad, grad_fn)\u001b[0m\n\u001b[0;32m     17\u001b[0m \u001b[38;5;28mself\u001b[39m\u001b[38;5;241m.\u001b[39mdata \u001b[38;5;241m=\u001b[39m data\n\u001b[0;32m     18\u001b[0m \u001b[38;5;28mself\u001b[39m\u001b[38;5;241m.\u001b[39mrequires_grad \u001b[38;5;241m=\u001b[39m requires_grad\n\u001b[1;32m---> 19\u001b[0m \u001b[38;5;28mself\u001b[39m\u001b[38;5;241m.\u001b[39mgrad \u001b[38;5;241m=\u001b[39m \u001b[43mnp\u001b[49m\u001b[38;5;241;43m.\u001b[39;49m\u001b[43mzeros_like\u001b[49m\u001b[43m(\u001b[49m\u001b[43mnp\u001b[49m\u001b[38;5;241;43m.\u001b[39;49m\u001b[43marray\u001b[49m\u001b[43m(\u001b[49m\u001b[43mdata\u001b[49m\u001b[43m)\u001b[49m\u001b[43m)\u001b[49m \u001b[38;5;28;01mif\u001b[39;00m requires_grad \u001b[38;5;28;01melse\u001b[39;00m \u001b[38;5;28;01mNone\u001b[39;00m  \u001b[38;5;66;03m# Gradient of the output with respect to this tensor\u001b[39;00m\n\u001b[0;32m     20\u001b[0m \u001b[38;5;28mself\u001b[39m\u001b[38;5;241m.\u001b[39mgrad_fn \u001b[38;5;241m=\u001b[39m grad_fn\n\u001b[0;32m     21\u001b[0m \u001b[38;5;28mself\u001b[39m\u001b[38;5;241m.\u001b[39mchildren \u001b[38;5;241m=\u001b[39m []\n",
      "File \u001b[1;32mc:\\Users\\25173\\.conda\\envs\\social\\Lib\\site-packages\\cupy\\_creation\\basic.py:294\u001b[0m, in \u001b[0;36mzeros_like\u001b[1;34m(a, dtype, order, subok, shape)\u001b[0m\n\u001b[0;32m    292\u001b[0m shape \u001b[38;5;241m=\u001b[39m shape \u001b[38;5;28;01mif\u001b[39;00m shape \u001b[38;5;28;01melse\u001b[39;00m a\u001b[38;5;241m.\u001b[39mshape\n\u001b[0;32m    293\u001b[0m a \u001b[38;5;241m=\u001b[39m cupy\u001b[38;5;241m.\u001b[39mndarray(shape, dtype, memptr, strides, order)\n\u001b[1;32m--> 294\u001b[0m a\u001b[38;5;241m.\u001b[39mdata\u001b[38;5;241m.\u001b[39mmemset_async(\u001b[38;5;241m0\u001b[39m, a\u001b[38;5;241m.\u001b[39mnbytes)\n\u001b[0;32m    295\u001b[0m \u001b[38;5;28;01mreturn\u001b[39;00m a\n",
      "\u001b[1;31mKeyboardInterrupt\u001b[0m: "
     ]
    }
   ],
   "source": [
    "continue_if_exists = False\n",
    "highest_val_acc = 0\n",
    "num_epochs = 20\n",
    "for lambda_L2 in [0.0]:#, 0.0001, 0.001]:\n",
    "    for lr in [0.05]:#, 0.01, 0.001]:\n",
    "        model = None\n",
    "        gc.collect()\n",
    "        \n",
    "        model_name = 'Resnet_L2-{}_lr-{}'.format(lambda_L2, lr)\n",
    "        print(f'model: {model_name}')\n",
    "        model = ResNetMNIST(ResiduleBlock)\n",
    "        criterion = nn.CrossEntropyLoss()\n",
    "        optimizer = optim.Adam(model.params, lr=lr, decay_rate=0.2)\n",
    "        result = MyDL.train(model, criterion, optimizer, \n",
    "                            train_data, val_data, num_epochs=num_epochs, \n",
    "                            batch_size=128, lambda_L2=lambda_L2, \n",
    "                            result_path='figure/results', \n",
    "                            model_path='figure/model_params', \n",
    "                            model_name=model_name, \n",
    "                            continue_if_exists=continue_if_exists, calc_val_loss_every_iteration=False)\n",
    "        if not (not continue_if_exists and result['continued_train']):\n",
    "            MyDL.save_result(model_name=model_name, result_dict=result, path='figure/results')\n",
    "        if result['val_acc_epoch'][-1] > highest_val_acc:\n",
    "            highest_val_acc = result['val_acc_epoch'][-1]\n",
    "            best_model_name = model_name\n",
    "            best_hyperparams = (lambda_L2, lr)"
   ]
  },
  {
   "cell_type": "code",
   "execution_count": null,
   "metadata": {},
   "outputs": [],
   "source": []
  }
 ],
 "metadata": {
  "kernelspec": {
   "display_name": "social",
   "language": "python",
   "name": "python3"
  },
  "language_info": {
   "codemirror_mode": {
    "name": "ipython",
    "version": 3
   },
   "file_extension": ".py",
   "mimetype": "text/x-python",
   "name": "python",
   "nbconvert_exporter": "python",
   "pygments_lexer": "ipython3",
   "version": "3.11.11"
  }
 },
 "nbformat": 4,
 "nbformat_minor": 2
}
