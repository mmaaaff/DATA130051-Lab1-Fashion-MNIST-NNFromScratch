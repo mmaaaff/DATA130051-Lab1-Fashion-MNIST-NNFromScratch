{
 "cells": [
  {
   "cell_type": "markdown",
   "metadata": {},
   "source": [
    "# Preparation"
   ]
  },
  {
   "cell_type": "markdown",
   "metadata": {},
   "source": [
    "### Load the MINIST dataset"
   ]
  },
  {
   "cell_type": "code",
   "execution_count": 1,
   "metadata": {},
   "outputs": [
    {
     "name": "stdout",
     "output_type": "stream",
     "text": [
      "Train*****************************\n",
      "magic\t\t 2051\n",
      "num\t\t 60000\n",
      "rows\t\t 28\n",
      "cols\t\t 28\n",
      "Test******************************\n",
      "magic\t\t 2051\n",
      "num\t\t 10000\n",
      "rows\t\t 28\n",
      "cols\t\t 28\n"
     ]
    }
   ],
   "source": [
    "import cupy as np\n",
    "from struct import unpack\n",
    "import gzip\n",
    "import matplotlib.pyplot as plt\n",
    "\n",
    "def read(filepath, show=False):\n",
    "    with gzip.open(filepath, 'rb') as f:\n",
    "        if show:\n",
    "            magic, num, rows, cols = unpack('>4I', f.read(16))\n",
    "            print('magic\\t\\t', magic)\n",
    "            print('num\\t\\t', num)\n",
    "            print('rows\\t\\t', rows)\n",
    "            print('cols\\t\\t', cols)\n",
    "        content=np.frombuffer(f.read(), dtype=np.uint8)\n",
    "    return content\n",
    "\n",
    "print('Train*****************************')\n",
    "train_imgs = read(r'dataset\\MNIST\\train-images-idx3-ubyte.gz', show=True).reshape(-1, 28, 28)\n",
    "train_labels = read(r'dataset\\MNIST\\train-labels-idx1-ubyte.gz')\n",
    "\n",
    "print('Test******************************')\n",
    "test_imgs = read(r'dataset\\MNIST\\t10k-images-idx3-ubyte.gz', show=True).reshape(-1, 28, 28)\n",
    "test_labels = read(r'dataset/MNIST/t10k-labels-idx1-ubyte.gz')\n",
    "\n",
    "# X_train, y_train = mnist_reader.load_mnist('fashion_mnist/data/fashion', kind='train')\n",
    "# X_test, y_test = mnist_reader.load_mnist('fashion_mnist/data/fashion', kind='t10k')\n"
   ]
  },
  {
   "cell_type": "code",
   "execution_count": 2,
   "metadata": {},
   "outputs": [
    {
     "name": "stdout",
     "output_type": "stream",
     "text": [
      "train images shape\t (60000, 28, 28)\n",
      "train labels shape\t (60000,)\n",
      "test images shape\t (10000, 28, 28)\n",
      "test labels shape\t (10000,)\n",
      "[5 0 4 1 9 2 1 3 1 4]\n"
     ]
    }
   ],
   "source": [
    "train_labels = train_labels[-60000:]\n",
    "test_labels = test_labels[-10000:]\n",
    "print('train images shape\\t', train_imgs.shape)\n",
    "print('train labels shape\\t', train_labels.shape)\n",
    "print('test images shape\\t', test_imgs.shape)\n",
    "print('test labels shape\\t', test_labels.shape)\n",
    "print(train_labels[0:10])"
   ]
  },
  {
   "cell_type": "markdown",
   "metadata": {},
   "source": [
    "### Import package MyDL which is written based on Numpy"
   ]
  },
  {
   "cell_type": "code",
   "execution_count": 3,
   "metadata": {},
   "outputs": [],
   "source": [
    "import MyDL\n",
    "import MyDL.data\n",
    "import MyDL.optimizer as optim\n",
    "import MyDL.nn as nn"
   ]
  },
  {
   "cell_type": "markdown",
   "metadata": {},
   "source": [
    "# MLP model"
   ]
  },
  {
   "cell_type": "markdown",
   "metadata": {},
   "source": [
    "### Data preparation"
   ]
  },
  {
   "cell_type": "code",
   "execution_count": 4,
   "metadata": {},
   "outputs": [],
   "source": [
    "train_imgs = train_imgs.reshape(-1, 28 * 28) / 255.0\n",
    "test_imgs = test_imgs.reshape(-1, 28 * 28) / 255.0\n",
    "\n",
    "X_train_mytensor = MyDL.MyTensor(train_imgs[:50000], requires_grad=False)\n",
    "y_train_mytensor = MyDL.MyTensor(train_labels[:50000], requires_grad=False)\n",
    "X_val_mytensor = MyDL.MyTensor(train_imgs[50000:], requires_grad=False)\n",
    "y_val_mytensor = MyDL.MyTensor(train_labels[50000:], requires_grad=False)\n",
    "X_test_mytensor = MyDL.MyTensor(test_imgs, requires_grad=False)\n",
    "y_test_mytensor = MyDL.MyTensor(test_labels, requires_grad=False)\n",
    "\n",
    "train_data = MyDL.data.Dataset(X_train_mytensor, y_train_mytensor)\n",
    "val_data = MyDL.data.Dataset(X_val_mytensor, y_val_mytensor)\n",
    "test_data = MyDL.data.Dataset(X_test_mytensor, y_test_mytensor)"
   ]
  },
  {
   "cell_type": "markdown",
   "metadata": {},
   "source": [
    "### Network Structure"
   ]
  },
  {
   "cell_type": "code",
   "execution_count": 5,
   "metadata": {},
   "outputs": [],
   "source": [
    "class MLP3(nn.NeuralNetwork):\n",
    "    def __init__(self, hidden_size1=100, hidden_size2=10, activation='relu'):\n",
    "        super().__init__()\n",
    "        self.hidden_size1 = hidden_size1\n",
    "        self.hidden_size2 = hidden_size2\n",
    "        self.activ_func = activation\n",
    "        self.fc1 = nn.Linear(784, hidden_size1, initialize='random')\n",
    "        self.fc2 = nn.Linear(hidden_size1, hidden_size2, initialize='random')\n",
    "        self.fc3 = nn.Linear(hidden_size2, 10, initialize='random')\n",
    "        if activation == 'relu':\n",
    "            self.activation = nn.ReLU()\n",
    "        elif activation == 'tanh':\n",
    "            self.activation = nn.Tanh()\n",
    "        else:\n",
    "            raise ValueError('Unknown activation function')\n",
    "        self.softmax = nn.Softmax()\n",
    "        self.BN1 = nn.BatchNorm1d()\n",
    "        self.BN2 = nn.BatchNorm1d()\n",
    "        self.BN3 = nn.BatchNorm1d()\n",
    "    def forward(self, x):\n",
    "        x = self.BN1(x)\n",
    "        x = self.fc1(x)\n",
    "        x = self.BN2(x)\n",
    "        x = self.activation(x)\n",
    "        x = self.fc2(x)\n",
    "        x = self.BN3(x)\n",
    "        x = self.activation(x)\n",
    "        x = self.fc3(x)\n",
    "        x = self.softmax(x)\n",
    "        return x"
   ]
  },
  {
   "cell_type": "markdown",
   "metadata": {},
   "source": [
    "### Train model and Search the best hyperparameters"
   ]
  },
  {
   "cell_type": "code",
   "execution_count": 6,
   "metadata": {},
   "outputs": [
    {
     "name": "stdout",
     "output_type": "stream",
     "text": [
      "model: MLP3_(100,10)_relu_L2-0.0_lr-0.1\n",
      "iter 49\t loss MyTensor(0.36280099106607955)\n",
      "iter 99\t loss MyTensor(0.4233962428085796)\n",
      "iter 149\t loss MyTensor(0.25499650579117844)\n",
      "Epoch 1/10. Training Loss:   0.372 \t Accuracy: 0.894\n",
      "            Validation Loss: 0.220 \t Accuracy: 0.937\n",
      "iter 49\t loss MyTensor(0.16290208217226193)\n",
      "iter 99\t loss MyTensor(0.1344292861009829)\n"
     ]
    },
    {
     "ename": "KeyboardInterrupt",
     "evalue": "",
     "output_type": "error",
     "traceback": [
      "\u001b[1;31m---------------------------------------------------------------------------\u001b[0m",
      "\u001b[1;31mKeyboardInterrupt\u001b[0m                         Traceback (most recent call last)",
      "Cell \u001b[1;32mIn[6], line 13\u001b[0m\n\u001b[0;32m     11\u001b[0m criterion \u001b[38;5;241m=\u001b[39m nn\u001b[38;5;241m.\u001b[39mCrossEntropyLoss()\n\u001b[0;32m     12\u001b[0m optimizer \u001b[38;5;241m=\u001b[39m optim\u001b[38;5;241m.\u001b[39mAdam(model\u001b[38;5;241m.\u001b[39mparams, lr\u001b[38;5;241m=\u001b[39mlr, decay_rate\u001b[38;5;241m=\u001b[39m\u001b[38;5;241m0.2\u001b[39m)\n\u001b[1;32m---> 13\u001b[0m result \u001b[38;5;241m=\u001b[39m \u001b[43mMyDL\u001b[49m\u001b[38;5;241;43m.\u001b[39;49m\u001b[43mtrain\u001b[49m\u001b[43m(\u001b[49m\u001b[43mmodel\u001b[49m\u001b[43m,\u001b[49m\u001b[43m \u001b[49m\u001b[43mcriterion\u001b[49m\u001b[43m,\u001b[49m\u001b[43m \u001b[49m\u001b[43moptimizer\u001b[49m\u001b[43m,\u001b[49m\u001b[43m \u001b[49m\u001b[43mtrain_data\u001b[49m\u001b[43m,\u001b[49m\u001b[43m \u001b[49m\u001b[43mval_data\u001b[49m\u001b[43m,\u001b[49m\u001b[43m \u001b[49m\u001b[43mnum_epochs\u001b[49m\u001b[38;5;241;43m=\u001b[39;49m\u001b[43mnum_epochs\u001b[49m\u001b[43m,\u001b[49m\u001b[43m \u001b[49m\u001b[43mbatch_size\u001b[49m\u001b[38;5;241;43m=\u001b[39;49m\u001b[38;5;241;43m256\u001b[39;49m\u001b[43m,\u001b[49m\u001b[43m \u001b[49m\u001b[43mlambda_L2\u001b[49m\u001b[38;5;241;43m=\u001b[39;49m\u001b[43mlambda_L2\u001b[49m\u001b[43m,\u001b[49m\u001b[43m \u001b[49m\u001b[43mresult_path\u001b[49m\u001b[38;5;241;43m=\u001b[39;49m\u001b[38;5;124;43m'\u001b[39;49m\u001b[38;5;124;43mfigure/results\u001b[39;49m\u001b[38;5;124;43m'\u001b[39;49m\u001b[43m,\u001b[49m\u001b[43m \u001b[49m\u001b[43mmodel_path\u001b[49m\u001b[38;5;241;43m=\u001b[39;49m\u001b[38;5;124;43m'\u001b[39;49m\u001b[38;5;124;43mfigure/model_params\u001b[39;49m\u001b[38;5;124;43m'\u001b[39;49m\u001b[43m,\u001b[49m\u001b[43m \u001b[49m\u001b[43mcontinue_if_exists\u001b[49m\u001b[38;5;241;43m=\u001b[39;49m\u001b[43mcontinue_if_exists\u001b[49m\u001b[43m,\u001b[49m\u001b[43m \u001b[49m\u001b[43mcalc_val_loss_every_iteration\u001b[49m\u001b[38;5;241;43m=\u001b[39;49m\u001b[38;5;28;43;01mFalse\u001b[39;49;00m\u001b[43m)\u001b[49m\n\u001b[0;32m     14\u001b[0m \u001b[38;5;28;01mif\u001b[39;00m \u001b[38;5;129;01mnot\u001b[39;00m (\u001b[38;5;129;01mnot\u001b[39;00m continue_if_exists \u001b[38;5;129;01mand\u001b[39;00m result[\u001b[38;5;124m'\u001b[39m\u001b[38;5;124mcontinued_train\u001b[39m\u001b[38;5;124m'\u001b[39m]):    \n\u001b[0;32m     15\u001b[0m     MyDL\u001b[38;5;241m.\u001b[39msave_result(\u001b[38;5;241m*\u001b[39m\u001b[38;5;241m*\u001b[39mresult, path\u001b[38;5;241m=\u001b[39m\u001b[38;5;124m'\u001b[39m\u001b[38;5;124mfigure/results\u001b[39m\u001b[38;5;124m'\u001b[39m)\n",
      "File \u001b[1;32md:\\files\\2025spring\\homework\\DL\\PJ1\\DATA130051-Lab1-Fashion-MNIST-NNFromScratch\\MyDL\\basics.py:58\u001b[0m, in \u001b[0;36mtrain\u001b[1;34m(model, criterion, optimizer, train_data, val_data, num_epochs, batch_size, lambda_L2, model_path, model_name, result_path, continue_if_exists, calc_val_loss_every_iteration)\u001b[0m\n\u001b[0;32m     56\u001b[0m train_acc_iter\u001b[38;5;241m.\u001b[39mappend(iter_acc)\n\u001b[0;32m     57\u001b[0m optimizer\u001b[38;5;241m.\u001b[39mzero_grad()\n\u001b[1;32m---> 58\u001b[0m \u001b[43mloss_with_L2\u001b[49m\u001b[38;5;241;43m.\u001b[39;49m\u001b[43mbackward\u001b[49m\u001b[43m(\u001b[49m\u001b[43m)\u001b[49m\n\u001b[0;32m     59\u001b[0m optimizer\u001b[38;5;241m.\u001b[39mstep()\n\u001b[0;32m     60\u001b[0m \u001b[38;5;28;01mif\u001b[39;00m calc_val_loss_every_iteration:\n",
      "File \u001b[1;32md:\\files\\2025spring\\homework\\DL\\PJ1\\DATA130051-Lab1-Fashion-MNIST-NNFromScratch\\MyDL\\tensor.py:50\u001b[0m, in \u001b[0;36mMyTensor.backward\u001b[1;34m(self, grad, start_point)\u001b[0m\n\u001b[0;32m     48\u001b[0m \u001b[38;5;28;01mfor\u001b[39;00m node \u001b[38;5;129;01min\u001b[39;00m \u001b[38;5;28mreversed\u001b[39m(topo_order):\n\u001b[0;32m     49\u001b[0m     \u001b[38;5;28;01mif\u001b[39;00m node\u001b[38;5;241m.\u001b[39mgrad_fn:\n\u001b[1;32m---> 50\u001b[0m         \u001b[43mnode\u001b[49m\u001b[38;5;241;43m.\u001b[39;49m\u001b[43mgrad_fn\u001b[49m\u001b[43m(\u001b[49m\u001b[43mnode\u001b[49m\u001b[43m)\u001b[49m\n",
      "File \u001b[1;32md:\\files\\2025spring\\homework\\DL\\PJ1\\DATA130051-Lab1-Fashion-MNIST-NNFromScratch\\MyDL\\tensor.py:194\u001b[0m, in \u001b[0;36mMyTensor.__mul__.<locals>.mul_grad_fn_backward\u001b[1;34m(self)\u001b[0m\n\u001b[0;32m    192\u001b[0m \u001b[38;5;28;01melse\u001b[39;00m:\n\u001b[0;32m    193\u001b[0m     \u001b[38;5;28;01mif\u001b[39;00m \u001b[38;5;28mlen\u001b[39m(C2\u001b[38;5;241m.\u001b[39mshape) \u001b[38;5;241m<\u001b[39m \u001b[38;5;28mlen\u001b[39m(C1\u001b[38;5;241m.\u001b[39mshape):\n\u001b[1;32m--> 194\u001b[0m         accume \u001b[38;5;241m=\u001b[39m \u001b[43mnp\u001b[49m\u001b[38;5;241;43m.\u001b[39;49m\u001b[43msum\u001b[49m\u001b[43m(\u001b[49m\u001b[43maccume\u001b[49m\u001b[43m,\u001b[49m\u001b[43m \u001b[49m\u001b[43maxis\u001b[49m\u001b[38;5;241;43m=\u001b[39;49m\u001b[38;5;28;43mtuple\u001b[39;49m\u001b[43m(\u001b[49m\u001b[38;5;28;43mrange\u001b[39;49m\u001b[43m(\u001b[49m\u001b[38;5;28;43mlen\u001b[39;49m\u001b[43m(\u001b[49m\u001b[43mC1\u001b[49m\u001b[38;5;241;43m.\u001b[39;49m\u001b[43mshape\u001b[49m\u001b[43m)\u001b[49m\u001b[43m \u001b[49m\u001b[38;5;241;43m-\u001b[39;49m\u001b[43m \u001b[49m\u001b[38;5;28;43mlen\u001b[39;49m\u001b[43m(\u001b[49m\u001b[43mC2\u001b[49m\u001b[38;5;241;43m.\u001b[39;49m\u001b[43mshape\u001b[49m\u001b[43m)\u001b[49m\u001b[43m)\u001b[49m\u001b[43m)\u001b[49m\u001b[43m,\u001b[49m\u001b[43m \u001b[49m\u001b[43mkeepdims\u001b[49m\u001b[38;5;241;43m=\u001b[39;49m\u001b[38;5;28;43;01mFalse\u001b[39;49;00m\u001b[43m)\u001b[49m\n\u001b[0;32m    195\u001b[0m     flat_dims \u001b[38;5;241m+\u001b[39m\u001b[38;5;241m=\u001b[39m [i \u001b[38;5;28;01mfor\u001b[39;00m i \u001b[38;5;129;01min\u001b[39;00m \u001b[38;5;28mrange\u001b[39m(\u001b[38;5;28mlen\u001b[39m(C2\u001b[38;5;241m.\u001b[39mshape)) \u001b[38;5;28;01mif\u001b[39;00m C2\u001b[38;5;241m.\u001b[39mshape[i] \u001b[38;5;241m==\u001b[39m \u001b[38;5;241m1\u001b[39m]\n\u001b[0;32m    196\u001b[0m     accume \u001b[38;5;241m=\u001b[39m np\u001b[38;5;241m.\u001b[39msum(accume, axis\u001b[38;5;241m=\u001b[39m\u001b[38;5;28mtuple\u001b[39m(flat_dims), keepdims\u001b[38;5;241m=\u001b[39m\u001b[38;5;28;01mTrue\u001b[39;00m)\n",
      "File \u001b[1;32mc:\\Users\\25173\\.conda\\envs\\social\\Lib\\site-packages\\cupy\\_math\\sumprod.py:40\u001b[0m, in \u001b[0;36msum\u001b[1;34m(a, axis, dtype, out, keepdims)\u001b[0m\n\u001b[0;32m     36\u001b[0m     \u001b[38;5;28;01mreturn\u001b[39;00m _fusion_thread_local\u001b[38;5;241m.\u001b[39mcall_reduction(\n\u001b[0;32m     37\u001b[0m         func, a, axis\u001b[38;5;241m=\u001b[39maxis, dtype\u001b[38;5;241m=\u001b[39mdtype, out\u001b[38;5;241m=\u001b[39mout)\n\u001b[0;32m     39\u001b[0m \u001b[38;5;66;03m# TODO(okuta): check type\u001b[39;00m\n\u001b[1;32m---> 40\u001b[0m \u001b[38;5;28;01mreturn\u001b[39;00m \u001b[43ma\u001b[49m\u001b[38;5;241;43m.\u001b[39;49m\u001b[43msum\u001b[49m\u001b[43m(\u001b[49m\u001b[43maxis\u001b[49m\u001b[43m,\u001b[49m\u001b[43m \u001b[49m\u001b[43mdtype\u001b[49m\u001b[43m,\u001b[49m\u001b[43m \u001b[49m\u001b[43mout\u001b[49m\u001b[43m,\u001b[49m\u001b[43m \u001b[49m\u001b[43mkeepdims\u001b[49m\u001b[43m)\u001b[49m\n",
      "\u001b[1;31mKeyboardInterrupt\u001b[0m: "
     ]
    }
   ],
   "source": [
    "continue_if_exists = False\n",
    "highest_val_acc = 0\n",
    "num_epochs = 10\n",
    "for activ_func in ['relu']:#, 'tanh']:\n",
    "    for hidden_size1, hidden_size2 in [(100, 10)]:#, (10, 10)]:\n",
    "        for lambda_L2 in [0.0]:#, 0.0001, 0.001]:\n",
    "            for lr in [0.1]:#, 0.01, 0.001]:\n",
    "                model_name = 'MLP3_({},{})_{}_L2-{}_lr-{}'.format(hidden_size1, hidden_size2, activ_func, lambda_L2, lr)\n",
    "                print(f'model: {model_name}')\n",
    "                model = MLP3(hidden_size1=hidden_size1, hidden_size2=hidden_size2, activation=activ_func)\n",
    "                criterion = nn.CrossEntropyLoss()\n",
    "                optimizer = optim.Adam(model.params, lr=lr, decay_rate=0.2)\n",
    "                result = MyDL.train(model, criterion, optimizer, train_data, val_data, num_epochs=num_epochs, batch_size=256, lambda_L2=lambda_L2, result_path='figure/results', model_path='figure/model_params', continue_if_exists=continue_if_exists, calc_val_loss_every_iteration=False)\n",
    "                if not (not continue_if_exists and result['continued_train']):    \n",
    "                    MyDL.save_result(**result, path='figure/results')\n",
    "                if result['val_acc_epoch'][-1] > highest_val_acc:\n",
    "                    highest_val_acc = result['val_acc_epoch'][-1]\n",
    "                    best_model_name = model_name\n",
    "                    best_hyperparams = (hidden_size1, hidden_size2, activ_func, lambda_L2, lr)"
   ]
  },
  {
   "cell_type": "code",
   "execution_count": 14,
   "metadata": {},
   "outputs": [
    {
     "name": "stdout",
     "output_type": "stream",
     "text": [
      "<class 'numpy.ndarray'>\n"
     ]
    }
   ],
   "source": [
    "print(type(model.params[0].data))"
   ]
  },
  {
   "cell_type": "markdown",
   "metadata": {},
   "source": [
    "### Display the best model"
   ]
  },
  {
   "cell_type": "code",
   "execution_count": null,
   "metadata": {},
   "outputs": [
    {
     "name": "stdout",
     "output_type": "stream",
     "text": [
      "Best model: MLP3_(100,10)_tanh_L2-0.0_lr-0.1\n",
      "Train loss: 0.385  Val loss: 0.424  Train acc: 0.864  Val acc: 0.851\n",
      "Hyperparameters: (100, 10, 'tanh', 0.0, 0.1)\n"
     ]
    }
   ],
   "source": [
    "import os\n",
    "print(f'Best model: {best_model_name}')\n",
    "with np.load(os.path.join('results', f'{best_model_name}.npz')) as result:\n",
    "    train_loss = result['train_loss_epoch']\n",
    "    val_loss = result['val_loss_epoch']\n",
    "    train_acc = result['train_acc_epoch']\n",
    "    val_acc = result['val_acc_epoch']\n",
    "print(f'Train loss: {train_loss[-1]:.3}  Val loss: {val_loss[-1]:.3}  Train acc: {train_acc[-1]:.3}  Val acc: {val_acc[-1]:.3}')\n",
    "print(f'Hyperparameters: {best_hyperparams}')"
   ]
  },
  {
   "cell_type": "markdown",
   "metadata": {},
   "source": [
    "# ResNet"
   ]
  },
  {
   "cell_type": "markdown",
   "metadata": {},
   "source": [
    "### Data Preparation"
   ]
  },
  {
   "cell_type": "code",
   "execution_count": 7,
   "metadata": {},
   "outputs": [
    {
     "name": "stdout",
     "output_type": "stream",
     "text": [
      "(60000, 1, 28, 28)\n"
     ]
    }
   ],
   "source": [
    "train_imgs = train_imgs.reshape(-1, 1, 28,  28) / 255.0\n",
    "test_imgs = test_imgs.reshape(-1, 1, 28,  28) / 255.0\n",
    "\n",
    "print(train_imgs.shape)"
   ]
  },
  {
   "cell_type": "code",
   "execution_count": 8,
   "metadata": {},
   "outputs": [],
   "source": [
    "X_train_mytensor = MyDL.MyTensor(train_imgs[:50000], requires_grad=False)\n",
    "y_train_mytensor = MyDL.MyTensor(train_labels[:50000], requires_grad=False)\n",
    "X_val_mytensor = MyDL.MyTensor(train_imgs[50000:], requires_grad=False)\n",
    "y_val_mytensor = MyDL.MyTensor(train_labels[50000:], requires_grad=False)\n",
    "X_test_mytensor = MyDL.MyTensor(test_imgs, requires_grad=False)\n",
    "y_test_mytensor = MyDL.MyTensor(test_labels, requires_grad=False)\n",
    "\n",
    "train_data = MyDL.data.Dataset(X_train_mytensor, y_train_mytensor)\n",
    "val_data = MyDL.data.Dataset(X_val_mytensor, y_val_mytensor)\n",
    "test_data = MyDL.data.Dataset(X_test_mytensor, y_test_mytensor)"
   ]
  },
  {
   "cell_type": "markdown",
   "metadata": {},
   "source": [
    "### Network Structure"
   ]
  },
  {
   "cell_type": "code",
   "execution_count": 10,
   "metadata": {},
   "outputs": [],
   "source": [
    "# Define the residual block\n",
    "class ResiduleBlock(nn.NeuralNetwork):\n",
    "    def __init__(self, in_channels, out_channels, stride=1):\n",
    "        super().__init__()\n",
    "        self.conv1 = nn.Conv2D(in_channels, out_channels, kernel_size=3,\n",
    "                               stride=stride, padding=1, bias=False)\n",
    "        self.bn1 = nn.BatchNorm2d(out_channels)\n",
    "        self.conv2 = nn.Conv2D(out_channels, out_channels, kernel_size=3,\n",
    "                               stride=1, padding=1, bias=False)\n",
    "        self.bn2 = nn.BatchNorm2d(out_channels)\n",
    "\n",
    "        # When channel number not match or stride != 1, use 1x1 conv before jump connect\n",
    "        self.cross_block = False\n",
    "        if stride != 1 or in_channels != out_channels:\n",
    "            self.cross_block = True\n",
    "            self.conv_shortcut = nn.Conv2D(in_channels, out_channels, kernel_size=1,\n",
    "                                           padding=0, stride=stride, bias=False)\n",
    "            self.bn_shortcut = nn.BatchNorm2d(out_channels)\n",
    "    \n",
    "    def forward(self, x):\n",
    "        out = nn.ReLU.forward(self.bn1(self.conv1(x)))\n",
    "        out = self.bn2(self.conv2(out))\n",
    "        if self.cross_block:\n",
    "            x = self.conv_shortcut(x)\n",
    "            x = self.bn_shortcut(x)\n",
    "        out = out + x  # 残差连接\n",
    "        out = nn.ReLU.forward(out)\n",
    "        return out\n",
    "    \n",
    "class ResNetMNIST(nn.NeuralNetwork):\n",
    "    \"\"\"\n",
    "    input: (batch, 1, 28, 28)\n",
    "    ↓\n",
    "    Conv 3x3, 16 channels + BN + ReLU\n",
    "    ↓\n",
    "    ResiduleBlockx2 (channel = 16, stride=1)\n",
    "    ↓\n",
    "    ResiduleBlockx2 (channel = 32, stride=2)\n",
    "    ↓\n",
    "    ResiduleBlockx2 (channel = 64, stride=2)\n",
    "    ↓\n",
    "    Average Polling (len 64 vector)\n",
    "    ↓\n",
    "    FC layer (64 -> 10)\n",
    "    ↓\n",
    "    out: (10)\n",
    "    \"\"\"\n",
    "    def __init__(self, block, num_classes=10):\n",
    "        super(ResNetMNIST, self).__init__()\n",
    "        self.in_channels = 16\n",
    "\n",
    "        self.conv = nn.Conv2D(1, 16, kernel_size=3, stride=1, padding=1, bias=False)\n",
    "        self.bn = nn.BatchNorm2d(16)\n",
    "        self.layer1 = self._make_layer(block, 16, 2, stride=1)\n",
    "        self.layer2 = self._make_layer(block, 32, 2, stride=2)\n",
    "        self.layer3 = self._make_layer(block, 64, 2, stride=2)\n",
    "        self.avg_pool = nn.FullAveragePool2d()\n",
    "        self.fc = nn.Linear(64, num_classes)\n",
    "\n",
    "    def _make_layer(self, block, out_channels, blocks, stride):\n",
    "        strides = [stride] + [1] * (blocks - 1)\n",
    "        layers = []\n",
    "        for s in strides:\n",
    "            layers.append(block(self.in_channels, out_channels, s))\n",
    "            self.in_channels = out_channels\n",
    "        return nn.Sequential(*layers)\n",
    "\n",
    "    def forward(self, x):\n",
    "        out = nn.ReLU.forward(self.bn(self.conv(x)))\n",
    "        out = self.layer1(out)\n",
    "        out = self.layer2(out)\n",
    "        out = self.layer3(out)\n",
    "        out = self.avg_pool(out)  # (batch, c)\n",
    "        out = self.fc(out)\n",
    "        out = nn.Softmax.forward(out)\n",
    "        return out"
   ]
  },
  {
   "cell_type": "markdown",
   "metadata": {},
   "source": [
    "### Train model and Search the best hyperparameters"
   ]
  },
  {
   "cell_type": "code",
   "execution_count": 12,
   "metadata": {},
   "outputs": [
    {
     "name": "stdout",
     "output_type": "stream",
     "text": [
      "model: Resnet_L2-0.0_lr-0.01\n",
      "iter 49\t loss MyTensor(9.341877837019249)\n",
      "iter 99\t loss MyTensor(6.61601163762726)\n",
      "iter 149\t loss MyTensor(2.776984568809482)\n",
      "iter 199\t loss MyTensor(2.6274939064114324)\n",
      "iter 249\t loss MyTensor(2.704099060901166)\n",
      "iter 299\t loss MyTensor(2.5743105314904113)\n",
      "iter 349\t loss MyTensor(2.899393836165248)\n",
      "Epoch 1/10. Training Loss:   4.688 \t Accuracy: 0.187\n",
      "            Validation Loss: 2.622 \t Accuracy: 0.303\n",
      "iter 49\t loss MyTensor(2.805325579825075)\n",
      "iter 99\t loss MyTensor(2.454717106419736)\n",
      "iter 149\t loss MyTensor(2.503880833466241)\n",
      "iter 199\t loss MyTensor(2.7396336062173106)\n",
      "iter 249\t loss MyTensor(2.575604162101395)\n",
      "iter 299\t loss MyTensor(2.0813806054723925)\n",
      "iter 349\t loss MyTensor(2.6142994119692298)\n",
      "Epoch 2/10. Training Loss:   2.406 \t Accuracy: 0.351\n",
      "            Validation Loss: 2.272 \t Accuracy: 0.369\n",
      "iter 49\t loss MyTensor(2.650730584201835)\n",
      "iter 99\t loss MyTensor(2.237478776213057)\n",
      "iter 149\t loss MyTensor(2.829342451264705)\n",
      "iter 199\t loss MyTensor(1.6655464368506934)\n",
      "iter 249\t loss MyTensor(1.2416485708226432)\n",
      "iter 299\t loss MyTensor(1.2105297713827645)\n",
      "iter 349\t loss MyTensor(1.0780608917586805)\n",
      "Epoch 3/10. Training Loss:   1.937 \t Accuracy: 0.445\n",
      "            Validation Loss: 1.527 \t Accuracy: 0.551\n",
      "iter 49\t loss MyTensor(1.1096429082075931)\n",
      "iter 99\t loss MyTensor(0.98263965134751)\n",
      "iter 149\t loss MyTensor(0.8417781130232476)\n",
      "iter 199\t loss MyTensor(0.9944106727990043)\n",
      "iter 249\t loss MyTensor(1.0214554197568213)\n",
      "iter 299\t loss MyTensor(1.2786412493203438)\n",
      "iter 349\t loss MyTensor(1.1205413784535145)\n",
      "Epoch 4/10. Training Loss:   1.050 \t Accuracy: 0.681\n",
      "            Validation Loss: 1.017 \t Accuracy: 0.680\n",
      "iter 49\t loss MyTensor(1.115097879188211)\n",
      "iter 99\t loss MyTensor(0.944416243702475)\n",
      "iter 149\t loss MyTensor(1.0562641691680872)\n",
      "iter 199\t loss MyTensor(1.116840338253051)\n",
      "iter 249\t loss MyTensor(0.9512583783680162)\n",
      "iter 299\t loss MyTensor(0.9116730252611372)\n",
      "iter 349\t loss MyTensor(1.020441408678715)\n",
      "Epoch 5/10. Training Loss:   1.010 \t Accuracy: 0.678\n",
      "            Validation Loss: 0.845 \t Accuracy: 0.738\n",
      "iter 49\t loss MyTensor(0.8881811458656901)\n",
      "iter 99\t loss MyTensor(0.9857271118161457)\n",
      "iter 149\t loss MyTensor(0.9327475441093245)\n",
      "iter 199\t loss MyTensor(1.0224651703677634)\n",
      "iter 249\t loss MyTensor(0.792679597944921)\n",
      "iter 299\t loss MyTensor(0.9612781161562203)\n",
      "iter 349\t loss MyTensor(0.767812534204144)\n",
      "Epoch 6/10. Training Loss:   0.932 \t Accuracy: 0.702\n",
      "            Validation Loss: 0.753 \t Accuracy: 0.768\n",
      "iter 49\t loss MyTensor(0.8216127347284554)\n",
      "iter 99\t loss MyTensor(0.8470631088045537)\n",
      "iter 149\t loss MyTensor(0.8912734979020547)\n",
      "iter 199\t loss MyTensor(0.7728446935457981)\n",
      "iter 249\t loss MyTensor(0.8723231806294593)\n",
      "iter 299\t loss MyTensor(0.8013079769503948)\n",
      "iter 349\t loss MyTensor(0.7820745080330518)\n",
      "Epoch 7/10. Training Loss:   0.855 \t Accuracy: 0.729\n",
      "            Validation Loss: 0.687 \t Accuracy: 0.785\n",
      "iter 49\t loss MyTensor(0.8028028244654875)\n",
      "iter 99\t loss MyTensor(0.7236655599736854)\n",
      "iter 149\t loss MyTensor(0.849117963253352)\n",
      "iter 199\t loss MyTensor(0.8087582146785193)\n",
      "iter 249\t loss MyTensor(0.7516510487429868)\n",
      "iter 299\t loss MyTensor(0.7415997596346895)\n",
      "iter 349\t loss MyTensor(0.9133427997569759)\n",
      "Epoch 8/10. Training Loss:   0.810 \t Accuracy: 0.746\n",
      "            Validation Loss: 0.640 \t Accuracy: 0.802\n",
      "iter 49\t loss MyTensor(0.6742223437805039)\n",
      "iter 99\t loss MyTensor(0.8200126403870612)\n",
      "iter 149\t loss MyTensor(0.6327339858235786)\n",
      "iter 199\t loss MyTensor(0.7672714509245212)\n",
      "iter 249\t loss MyTensor(0.7799690945065443)\n",
      "iter 299\t loss MyTensor(0.7966589502143527)\n",
      "iter 349\t loss MyTensor(0.6392826812785443)\n",
      "Epoch 9/10. Training Loss:   0.779 \t Accuracy: 0.754\n",
      "            Validation Loss: 0.577 \t Accuracy: 0.827\n",
      "iter 49\t loss MyTensor(0.7928611391272136)\n",
      "iter 99\t loss MyTensor(0.7385353954873534)\n",
      "iter 149\t loss MyTensor(0.738255132282365)\n",
      "iter 199\t loss MyTensor(0.7358174885025027)\n",
      "iter 249\t loss MyTensor(0.8125362539189459)\n",
      "iter 299\t loss MyTensor(0.8253285934263282)\n",
      "iter 349\t loss MyTensor(0.7445922571774777)\n",
      "Epoch 10/10. Training Loss:   0.744 \t Accuracy: 0.765\n",
      "             Validation Loss: 0.535 \t Accuracy: 0.843\n",
      "\n",
      "\n"
     ]
    }
   ],
   "source": [
    "continue_if_exists = False\n",
    "highest_val_acc = 0\n",
    "num_epochs = 10\n",
    "for lambda_L2 in [0.0]:#, 0.0001, 0.001]:\n",
    "    for lr in [0.01]:#, 0.01, 0.001]:\n",
    "        model_name = 'Resnet_L2-{}_lr-{}'.format(lambda_L2, lr)\n",
    "        print(f'model: {model_name}')\n",
    "        model = ResNetMNIST(ResiduleBlock)\n",
    "        criterion = nn.CrossEntropyLoss()\n",
    "        optimizer = optim.Adam(model.params, lr=lr, decay_rate=0.2)\n",
    "        result = MyDL.train(model, criterion, optimizer, \n",
    "                            train_data, val_data, num_epochs=num_epochs, \n",
    "                            batch_size=128, lambda_L2=lambda_L2, \n",
    "                            result_path='figure/results', \n",
    "                            model_path='figure/model_params', \n",
    "                            model_name=model_name, \n",
    "                            continue_if_exists=continue_if_exists, calc_val_loss_every_iteration=False)\n",
    "        if not (not continue_if_exists and result['continued_train']):\n",
    "            MyDL.save_result(**result, path='figure/results')\n",
    "        if result['val_acc_epoch'][-1] > highest_val_acc:\n",
    "            highest_val_acc = result['val_acc_epoch'][-1]\n",
    "            best_model_name = model_name\n",
    "            best_hyperparams = (lambda_L2, lr)"
   ]
  }
 ],
 "metadata": {
  "kernelspec": {
   "display_name": "social",
   "language": "python",
   "name": "python3"
  },
  "language_info": {
   "codemirror_mode": {
    "name": "ipython",
    "version": 3
   },
   "file_extension": ".py",
   "mimetype": "text/x-python",
   "name": "python",
   "nbconvert_exporter": "python",
   "pygments_lexer": "ipython3",
   "version": "3.11.11"
  }
 },
 "nbformat": 4,
 "nbformat_minor": 2
}
