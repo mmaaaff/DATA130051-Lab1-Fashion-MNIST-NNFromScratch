{
 "cells": [
  {
   "cell_type": "markdown",
   "metadata": {},
   "source": [
    "## Preparation"
   ]
  },
  {
   "cell_type": "markdown",
   "metadata": {},
   "source": [
    "### Load the Fashion-MINIST dataset"
   ]
  },
  {
   "cell_type": "code",
   "execution_count": 1,
   "metadata": {},
   "outputs": [],
   "source": [
    "import numpy as np\n",
    "import fashion_mnist.utils.mnist_reader as mnist_reader\n",
    "X_train, y_train = mnist_reader.load_mnist('fashion_mnist/data/fashion', kind='train')\n",
    "X_test, y_test = mnist_reader.load_mnist('fashion_mnist/data/fashion', kind='t10k')\n"
   ]
  },
  {
   "cell_type": "code",
   "execution_count": 2,
   "metadata": {},
   "outputs": [
    {
     "name": "stdout",
     "output_type": "stream",
     "text": [
      "(60000, 784)\n",
      "(60000,)\n",
      "(10000, 784)\n",
      "(10000,)\n",
      "<class 'numpy.ndarray'>\n",
      "[0 1 2 3 4 5 6 7 8 9]\n"
     ]
    }
   ],
   "source": [
    "print(X_train.shape)\n",
    "print(y_train.shape)\n",
    "print(X_test.shape)\n",
    "print(y_test.shape)\n",
    "print(type(X_train))\n",
    "print(np.unique(y_train))"
   ]
  },
  {
   "cell_type": "markdown",
   "metadata": {},
   "source": [
    "### Import package MyDL which is written based on Numpy"
   ]
  },
  {
   "cell_type": "code",
   "execution_count": 3,
   "metadata": {},
   "outputs": [],
   "source": [
    "import MyDL\n",
    "import MyDL.data\n",
    "import MyDL.optimizer as optim\n",
    "import MyDL.nn as nn"
   ]
  },
  {
   "cell_type": "code",
   "execution_count": 4,
   "metadata": {},
   "outputs": [],
   "source": [
    "X_train_mytensor = MyDL.MyTensor(X_train[:50000], requires_grad=False)\n",
    "y_train_mytensor = MyDL.MyTensor(y_train[:50000], requires_grad=False)\n",
    "X_val_mytensor = MyDL.MyTensor(X_train[50000:], requires_grad=False)\n",
    "y_val_mytensor = MyDL.MyTensor(y_train[50000:], requires_grad=False)\n",
    "X_test_mytensor = MyDL.MyTensor(X_test, requires_grad=False)\n",
    "y_test_mytensor = MyDL.MyTensor(y_test, requires_grad=False)\n",
    "\n",
    "train_data = MyDL.data.Dataset(X_train_mytensor, y_train_mytensor)\n",
    "val_data = MyDL.data.Dataset(X_val_mytensor, y_val_mytensor)\n",
    "test_data = MyDL.data.Dataset(X_test_mytensor, y_test_mytensor)"
   ]
  },
  {
   "cell_type": "markdown",
   "metadata": {},
   "source": [
    "## Define the MLP model"
   ]
  },
  {
   "cell_type": "code",
   "execution_count": 5,
   "metadata": {},
   "outputs": [],
   "source": [
    "class MLP3(nn.NeuralNetwork):\n",
    "    def __init__(self, hidden_size1=100, hidden_size2=10, activation='relu'):\n",
    "        super().__init__()\n",
    "        self.hidden_size1 = hidden_size1\n",
    "        self.hidden_size2 = hidden_size2\n",
    "        self.activ_func = activation\n",
    "        self.fc1 = nn.Linear(784, hidden_size1, initialize='random')\n",
    "        self.params += self.fc1.params\n",
    "        self.fc2 = nn.Linear(hidden_size1, hidden_size2, initialize='random')\n",
    "        self.params += self.fc2.params\n",
    "        self.fc3 = nn.Linear(hidden_size2, 10, initialize='random')\n",
    "        self.params += self.fc3.params\n",
    "        if activation == 'relu':\n",
    "            self.activation = nn.ReLU()\n",
    "        elif activation == 'tanh':\n",
    "            self.activation = nn.Tanh()\n",
    "        else:\n",
    "            raise ValueError('Unknown activation function')\n",
    "        self.softmax = nn.Softmax()\n",
    "        self.BN1 = nn.BatchNorm1d()\n",
    "        self.BN2 = nn.BatchNorm1d()\n",
    "        self.BN3 = nn.BatchNorm1d()\n",
    "        self.params += self.BN1.params\n",
    "        self.params += self.BN2.params\n",
    "        self.params += self.BN3.params\n",
    "    def forward(self, x):\n",
    "        x = self.BN1(x)\n",
    "        x = self.fc1(x)\n",
    "        x = self.BN2(x)\n",
    "        x = self.activation(x)\n",
    "        x = self.fc2(x)\n",
    "        x = self.BN3(x)\n",
    "        x = self.activation(x)\n",
    "        x = self.fc3(x)\n",
    "        x = self.softmax(x)\n",
    "        return x"
   ]
  },
  {
   "cell_type": "markdown",
   "metadata": {},
   "source": [
    "## Training the model"
   ]
  },
  {
   "cell_type": "markdown",
   "metadata": {},
   "source": [
    "### Searching the best hyperparameters"
   ]
  },
  {
   "cell_type": "code",
   "execution_count": 8,
   "metadata": {},
   "outputs": [
    {
     "name": "stdout",
     "output_type": "stream",
     "text": [
      "model: MLP3_(100,10)_relu_L2-0.0_lr-0.1\n",
      "Model already exists. Loading model...\n",
      "Model loaded successfully.\n",
      "Model is not going to be trained further as continue_if_exists is set to False.\n",
      "\n"
     ]
    }
   ],
   "source": [
    "continue_if_exists = False\n",
    "highest_val_acc = 0\n",
    "num_epochs=1\n",
    "for activ_func in ['relu']:#, 'tanh']:\n",
    "    for hidden_size1, hidden_size2 in [(100, 10)]:#, (10, 10)]:\n",
    "        for lambda_L2 in [0.0]:#, 0.0001, 0.001, 0.01]:\n",
    "            for lr in [0.1]:#, 0.01, 0.001]:\n",
    "                model_name = 'MLP3_({},{})_{}_L2-{}_lr-{}'.format(hidden_size1, hidden_size2, activ_func, lambda_L2, lr)\n",
    "                print(f'model: {model_name}')\n",
    "                model = MLP3(hidden_size1=hidden_size1, hidden_size2=hidden_size2, activation=activ_func)\n",
    "                criterion = nn.CrossEntropyLoss()\n",
    "                optimizer = optim.Adam(model.params, lr=lr, decay_rate=0.2)\n",
    "                result = MyDL.train(model, criterion, optimizer, train_data, val_data, num_epochs=num_epochs, batch_size=256, lambda_L2=lambda_L2, model_path='model_params', continue_if_exists=continue_if_exists)\n",
    "                if not (not continue_if_exists and result['continued_train']):    \n",
    "                    MyDL.save_result(**result, path='results')\n",
    "                if result['val_acc_epoch'][-1] > highest_val_acc:\n",
    "                    highest_val_acc = result['val_acc_epoch'][-1]\n",
    "                    best_model_name = model_name\n",
    "                    best_hyperparams = (hidden_size1, hidden_size2, activ_func, lambda_L2, lr)"
   ]
  },
  {
   "cell_type": "markdown",
   "metadata": {},
   "source": [
    "### Display the best model"
   ]
  },
  {
   "cell_type": "code",
   "execution_count": 10,
   "metadata": {},
   "outputs": [
    {
     "name": "stdout",
     "output_type": "stream",
     "text": [
      "Best model: MLP3_(100,10)_relu_L2-0.0_lr-0.1\n",
      "Train loss: 0.683  Val loss: 0.534  Train acc: 0.747  Val acc: 0.794\n",
      "Hyperparameters: (100, 10, 'relu', 0.0, 0.1)\n"
     ]
    }
   ],
   "source": [
    "import os\n",
    "print(f'Best model: {best_model_name}')\n",
    "with np.load(os.path.join('results', f'{best_model_name}.npz')) as result:\n",
    "    train_loss = result['train_loss_epoch']\n",
    "    val_loss = result['val_loss_epoch']\n",
    "    train_acc = result['train_acc_epoch']\n",
    "    val_acc = result['val_acc_epoch']\n",
    "print(f'Train loss: {train_loss[-1]:.3}  Val loss: {val_loss[-1]:.3}  Train acc: {train_acc[-1]:.3}  Val acc: {val_acc[-1]:.3}')\n",
    "print(f'Hyperparameters: {best_hyperparams}')"
   ]
  }
 ],
 "metadata": {
  "kernelspec": {
   "display_name": "Python 3",
   "language": "python",
   "name": "python3"
  },
  "language_info": {
   "codemirror_mode": {
    "name": "ipython",
    "version": 3
   },
   "file_extension": ".py",
   "mimetype": "text/x-python",
   "name": "python",
   "nbconvert_exporter": "python",
   "pygments_lexer": "ipython3",
   "version": "3.11.4"
  }
 },
 "nbformat": 4,
 "nbformat_minor": 2
}
