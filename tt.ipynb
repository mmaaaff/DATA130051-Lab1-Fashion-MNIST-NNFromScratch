{
 "cells": [
  {
   "cell_type": "code",
   "execution_count": 1,
   "metadata": {},
   "outputs": [],
   "source": [
    "import MyDL\n"
   ]
  },
  {
   "cell_type": "code",
   "execution_count": 5,
   "metadata": {},
   "outputs": [
    {
     "data": {
      "text/plain": [
       "array([[1, 1, 1],\n",
       "       [1, 1, 1]])"
      ]
     },
     "execution_count": 5,
     "metadata": {},
     "output_type": "execute_result"
    }
   ],
   "source": [
    "\n",
    "a = MyDL.MyTensor([[1,2,3], [4,5,6]])\n",
    "b = MyDL.MyTensor([1,2,3])\n",
    "c = a + b\n",
    "d = c.sum()\n",
    "d.backward()\n",
    "a.grad"
   ]
  },
  {
   "cell_type": "code",
   "execution_count": 9,
   "metadata": {},
   "outputs": [
    {
     "data": {
      "text/plain": [
       "array([[1, 1, 1],\n",
       "       [1, 1, 1]])"
      ]
     },
     "execution_count": 9,
     "metadata": {},
     "output_type": "execute_result"
    }
   ],
   "source": [
    "a = MyDL.MyTensor([[1,2,3], [4,5,6]])\n",
    "b = a.up_dim((0,2))\n",
    "c = b.sum()\n",
    "c.backward()\n",
    "a.grad"
   ]
  },
  {
   "cell_type": "code",
   "execution_count": 1,
   "metadata": {},
   "outputs": [
    {
     "name": "stdout",
     "output_type": "stream",
     "text": [
      "[[[[35.93753183 37.29460471 49.42811795 37.29460471]\n",
      "   [39.20064628 33.93794498 51.94706724 33.93794498]\n",
      "   [46.7024079  48.83980042 63.52849474 48.83980042]\n",
      "   [39.20064628 33.93794498 51.94706724 33.93794498]]\n",
      "\n",
      "  [[37.00600487 30.52571792 49.78620364 30.52571792]\n",
      "   [37.38967876 36.21029921 48.37215612 36.21029921]\n",
      "   [49.19773513 42.39234056 65.33942044 42.39234056]\n",
      "   [37.38967876 36.21029921 48.37215612 36.21029921]]\n",
      "\n",
      "  [[35.78772308 33.51175896 47.93191088 33.51175896]\n",
      "   [35.71315127 38.77984207 47.3070206  38.77984207]\n",
      "   [48.880439   47.95750157 63.62501306 47.95750157]\n",
      "   [35.71315127 38.77984207 47.3070206  38.77984207]]]\n",
      "\n",
      "\n",
      " [[[35.93753183 37.29460471 49.42811795 37.29460471]\n",
      "   [39.20064628 33.93794498 51.94706724 33.93794498]\n",
      "   [46.7024079  48.83980042 63.52849474 48.83980042]\n",
      "   [39.20064628 33.93794498 51.94706724 33.93794498]]\n",
      "\n",
      "  [[37.00600487 30.52571792 49.78620364 30.52571792]\n",
      "   [37.38967876 36.21029921 48.37215612 36.21029921]\n",
      "   [49.19773513 42.39234056 65.33942044 42.39234056]\n",
      "   [37.38967876 36.21029921 48.37215612 36.21029921]]\n",
      "\n",
      "  [[35.78772308 33.51175896 47.93191088 33.51175896]\n",
      "   [35.71315127 38.77984207 47.3070206  38.77984207]\n",
      "   [48.880439   47.95750157 63.62501306 47.95750157]\n",
      "   [35.71315127 38.77984207 47.3070206  38.77984207]]]\n",
      "\n",
      "\n",
      " [[[35.93753183 37.29460471 49.42811795 37.29460471]\n",
      "   [39.20064628 33.93794498 51.94706724 33.93794498]\n",
      "   [46.7024079  48.83980042 63.52849474 48.83980042]\n",
      "   [39.20064628 33.93794498 51.94706724 33.93794498]]\n",
      "\n",
      "  [[37.00600487 30.52571792 49.78620364 30.52571792]\n",
      "   [37.38967876 36.21029921 48.37215612 36.21029921]\n",
      "   [49.19773513 42.39234056 65.33942044 42.39234056]\n",
      "   [37.38967876 36.21029921 48.37215612 36.21029921]]\n",
      "\n",
      "  [[35.78772308 33.51175896 47.93191088 33.51175896]\n",
      "   [35.71315127 38.77984207 47.3070206  38.77984207]\n",
      "   [48.880439   47.95750157 63.62501306 47.95750157]\n",
      "   [35.71315127 38.77984207 47.3070206  38.77984207]]]\n",
      "\n",
      "\n",
      " [[[35.93753183 37.29460471 49.42811795 37.29460471]\n",
      "   [39.20064628 33.93794498 51.94706724 33.93794498]\n",
      "   [46.7024079  48.83980042 63.52849474 48.83980042]\n",
      "   [39.20064628 33.93794498 51.94706724 33.93794498]]\n",
      "\n",
      "  [[37.00600487 30.52571792 49.78620364 30.52571792]\n",
      "   [37.38967876 36.21029921 48.37215612 36.21029921]\n",
      "   [49.19773513 42.39234056 65.33942044 42.39234056]\n",
      "   [37.38967876 36.21029921 48.37215612 36.21029921]]\n",
      "\n",
      "  [[35.78772308 33.51175896 47.93191088 33.51175896]\n",
      "   [35.71315127 38.77984207 47.3070206  38.77984207]\n",
      "   [48.880439   47.95750157 63.62501306 47.95750157]\n",
      "   [35.71315127 38.77984207 47.3070206  38.77984207]]]\n",
      "\n",
      "\n",
      " [[[35.93753183 37.29460471 49.42811795 37.29460471]\n",
      "   [39.20064628 33.93794498 51.94706724 33.93794498]\n",
      "   [46.7024079  48.83980042 63.52849474 48.83980042]\n",
      "   [39.20064628 33.93794498 51.94706724 33.93794498]]\n",
      "\n",
      "  [[37.00600487 30.52571792 49.78620364 30.52571792]\n",
      "   [37.38967876 36.21029921 48.37215612 36.21029921]\n",
      "   [49.19773513 42.39234056 65.33942044 42.39234056]\n",
      "   [37.38967876 36.21029921 48.37215612 36.21029921]]\n",
      "\n",
      "  [[35.78772308 33.51175896 47.93191088 33.51175896]\n",
      "   [35.71315127 38.77984207 47.3070206  38.77984207]\n",
      "   [48.880439   47.95750157 63.62501306 47.95750157]\n",
      "   [35.71315127 38.77984207 47.3070206  38.77984207]]]]\n"
     ]
    }
   ],
   "source": [
    "import numpy as np\n",
    "from numpy.lib.stride_tricks import as_strided\n",
    "import MyDL\n",
    "import MyDL.nn\n",
    "\n",
    "np.random.seed(42)\n",
    "\n",
    "conv_layer = MyDL.nn.layers.conv2D(in_channels=3, out_channels=5, kernel_size=4, stride=2, padding=(2, 1, 2, 1), bias=True)\n",
    "\n",
    "X = np.random.rand(8, 3, 7, 7)   # 输入通道 C_in = 3\n",
    "X = MyDL.MyTensor(X)\n",
    "x_out = conv_layer(X)\n",
    "x_out.shape\n",
    "y = x_out.sum()\n",
    "y.backward()\n",
    "\n",
    "\n",
    "print(conv_layer.kernel.grad)\n"
   ]
  },
  {
   "cell_type": "code",
   "execution_count": 1,
   "metadata": {},
   "outputs": [],
   "source": [
    "import numpy as np\n",
    "X = np.random.rand(8, 3, 7, 7)"
   ]
  },
  {
   "cell_type": "code",
   "execution_count": 10,
   "metadata": {},
   "outputs": [
    {
     "name": "stdout",
     "output_type": "stream",
     "text": [
      "[[-3 -4  2  5]\n",
      " [-3 -5  1  7]\n",
      " [-2 -4  0  7]\n",
      " [-1 -2  0  5]]\n"
     ]
    }
   ],
   "source": [
    "# 单通道卷积\n",
    "import numpy as np\n",
    "from numpy.lib.stride_tricks import as_strided\n",
    "\n",
    "def conv2d_strided(X, K, padding=0, stride=1):\n",
    "    \"\"\"\n",
    "    用 as_strided 实现高效的二维卷积（单通道）\n",
    "    参数：\n",
    "        X : 原始图像 (H, W)\n",
    "        K : 卷积核 (kH, kW)\n",
    "        padding : 填充边界（默认0）\n",
    "        stride : 步幅（默认1）\n",
    "    返回：\n",
    "        Y : 卷积结果\n",
    "    \"\"\"\n",
    "    X = np.array(X)\n",
    "    K = np.array(K)\n",
    "\n",
    "    H, W = X.shape\n",
    "    kH, kW = K.shape\n",
    "\n",
    "    # 添加 zero-padding\n",
    "    if padding > 0:\n",
    "        X_padded = np.pad(X, ((padding, padding), (padding, padding)), mode='constant')\n",
    "    else:\n",
    "        X_padded = X\n",
    "\n",
    "    H_p, W_p = X_padded.shape\n",
    "\n",
    "    # 输出尺寸\n",
    "    out_h = (H_p - kH) // stride + 1\n",
    "    out_w = (W_p - kW) // stride + 1\n",
    "\n",
    "    # 构造滑动窗口视图：(out_h, out_w, kH, kW)\n",
    "    shape = (out_h, out_w, kH, kW)\n",
    "    strides = (\n",
    "        X_padded.strides[0] * stride,\n",
    "        X_padded.strides[1] * stride,\n",
    "        X_padded.strides[0],\n",
    "        X_padded.strides[1],\n",
    "    )\n",
    "    X_strided = as_strided(X_padded, shape=shape, strides=strides)\n",
    "\n",
    "    # 逐窗口点乘卷积核并求和（向量化）\n",
    "    Y = np.einsum('ijkl,kl->ij', X_strided, K)\n",
    "\n",
    "    return Y\n",
    "\n",
    "X = np.array([\n",
    "    [1, 2, 3, 0],\n",
    "    [0, 1, 2, 1],\n",
    "    [1, 0, 2, 1],\n",
    "    [2, 1, 3, 0]\n",
    "])\n",
    "\n",
    "K = np.array([\n",
    "    [1, 0, -1],\n",
    "    [1, 0, -1],\n",
    "    [1, 0, -1]\n",
    "])\n",
    "\n",
    "Y = conv2d_strided(X, K, padding=1, stride=1)\n",
    "print(Y)\n"
   ]
  },
  {
   "cell_type": "code",
   "execution_count": 13,
   "metadata": {},
   "outputs": [
    {
     "name": "stdout",
     "output_type": "stream",
     "text": [
      "(4, 5, 5)\n"
     ]
    }
   ],
   "source": [
    "# 多通道卷积\n",
    "import numpy as np\n",
    "from numpy.lib.stride_tricks import as_strided\n",
    "\n",
    "def conv2d_multi_channel(X, K, padding=0, stride=1):\n",
    "    \"\"\"\n",
    "    多通道二维卷积实现（无for循环）\n",
    "    参数：\n",
    "        X: 输入图像 (C_in, H, W)\n",
    "        K: 卷积核 (C_out, C_in, kH, kW)\n",
    "        padding: 零填充大小\n",
    "        stride: 步幅\n",
    "    返回：\n",
    "        Y: 输出特征图 (C_out, H_out, W_out)\n",
    "    \"\"\"\n",
    "    C_in, H, W = X.shape\n",
    "    C_out, C_in_k, kH, kW = K.shape\n",
    "    assert C_in == C_in_k, \"卷积核的输入通道数必须等于输入图像的通道数\"\n",
    "\n",
    "    # padding 每个通道\n",
    "    if padding > 0:\n",
    "        X_padded = np.pad(X, ((0, 0), (padding, padding), (padding, padding)), mode='constant')\n",
    "    else:\n",
    "        X_padded = X\n",
    "\n",
    "    H_p, W_p = X_padded.shape[1], X_padded.shape[2]\n",
    "\n",
    "    H_out = (H_p - kH) // stride + 1\n",
    "    W_out = (W_p - kW) // stride + 1\n",
    "\n",
    "    # 滑动窗口展开：输出形状 (C_in, H_out, W_out, kH, kW)\n",
    "    strides = X_padded.strides\n",
    "    new_shape = (C_in, H_out, W_out, kH, kW)\n",
    "    new_strides = (\n",
    "        strides[0],\n",
    "        strides[1] * stride,\n",
    "        strides[2] * stride,\n",
    "        strides[1],\n",
    "        strides[2]\n",
    "    )\n",
    "    X_strided = as_strided(X_padded, shape=new_shape, strides=new_strides)\n",
    "\n",
    "    # 卷积操作：K 是 (C_out, C_in, kH, kW)，X 是 (C_in, H_out, W_out, kH, kW)\n",
    "    # 使用einsum进行高效批量计算\n",
    "    Y = np.einsum('oimn,ihwmn->ohw', K, X_strided)\n",
    "\n",
    "    return Y\n",
    "\n",
    "X = np.random.rand(3, 5, 5)   # 输入通道 C_in = 3\n",
    "K = np.random.rand(4, 3, 3, 3) # 输出通道 C_out = 4，卷积核 3x3\n",
    "\n",
    "Y = conv2d_multi_channel(X, K, padding=1, stride=1)\n",
    "\n",
    "print(Y.shape)  # 应输出 (4, 5, 5)\n"
   ]
  },
  {
   "cell_type": "code",
   "execution_count": 8,
   "metadata": {},
   "outputs": [
    {
     "name": "stdout",
     "output_type": "stream",
     "text": [
      "(8, 3, 7, 7)\n",
      "(8, 5, 4, 4)\n"
     ]
    }
   ],
   "source": [
    "# 多通道卷积\n",
    "import numpy as np\n",
    "from typing import Union, Tuple\n",
    "from numpy.lib.stride_tricks import as_strided\n",
    "\n",
    "def conv2d_multi_channel(X, K, padding:Union[int, Tuple[int, int, int, int]]=0, \n",
    "                         stride:Union[int, Tuple[int, int]]=1):\n",
    "    \"\"\"\n",
    "    多通道二维卷积实现（无for循环）\n",
    "    参数：\n",
    "        X: 输入图像 (batch, C_in, H, W)\n",
    "        K: 卷积核 (C_out, C_in, kH, kW)\n",
    "        padding: 零填充大小，整数或元组(up, down, left, right)\n",
    "        stride: 步幅\n",
    "    返回：\n",
    "        Y: 输出特征图 (C_out, H_out, W_out)\n",
    "    \"\"\"\n",
    "\n",
    "    batch, C_in, H, W = X.shape\n",
    "    C_out, C_in_k, kH, kW = K.shape\n",
    "    assert C_in == C_in_k, \"卷积核的输入通道数必须等于输入图像的通道数\"\n",
    "\n",
    "    # padding 每个通道\n",
    "    if isinstance(padding, int):\n",
    "        X_padded = np.pad(X, ((0, 0), (0, 0), (padding, padding), (padding, padding)), mode='constant')\n",
    "    else:\n",
    "        X_padded = np.pad(X, ((0, 0), (0, 0), (padding[0], padding[1]), (padding[2], padding[3])), mode='constant')\n",
    "    \n",
    "    if isinstance(stride, int):\n",
    "        stride = (stride, stride)\n",
    "\n",
    "    H_p, W_p = X_padded.shape[2], X_padded.shape[3]\n",
    "\n",
    "    H_out = (H_p - kH) // stride[0] + 1\n",
    "    W_out = (W_p - kW) // stride[1] + 1\n",
    "\n",
    "    # 滑动窗口展开：输出形状 (C_in, H_out, W_out, kH, kW)\n",
    "    strides = X_padded.strides\n",
    "    new_shape = (batch, C_in, H_out, W_out, kH, kW)\n",
    "    new_strides = (\n",
    "        strides[0],\n",
    "        strides[1],\n",
    "        strides[2] * stride[0],\n",
    "        strides[3] * stride[1],\n",
    "        strides[2],\n",
    "        strides[3]\n",
    "    )\n",
    "    X_strided = as_strided(X_padded, shape=new_shape, strides=new_strides)\n",
    "\n",
    "    # 卷积操作：K 是 (C_out, C_in, kH, kW)，X 是 (batch, C_in, H_out, W_out, kH, kW)\n",
    "    # 使用einsum进行高效批量计算\n",
    "    Y = np.einsum('oimn,bihwmn->bohw', K, X_strided)\n",
    "\n",
    "    return Y\n",
    "\n",
    "\n",
    "X = np.random.rand(8, 3, 7, 7)   # 输入通道 C_in = 3\n",
    "K = np.random.rand(5, 3, 4, 4)   # c_in, c_out, kh, kw\n",
    "\n",
    "Y = conv2d_multi_channel(X, K, padding=(2,1,2,1), stride=(2,2))\n",
    "\n",
    "print(X.shape)\n",
    "print(Y.shape)  # 应输出 (8, 4, 5, 5)"
   ]
  },
  {
   "cell_type": "code",
   "execution_count": 50,
   "metadata": {},
   "outputs": [
    {
     "data": {
      "text/plain": [
       "array([[0, 2, 0],\n",
       "       [0, 5, 0]])"
      ]
     },
     "execution_count": 50,
     "metadata": {},
     "output_type": "execute_result"
    }
   ],
   "source": [
    "import numpy as np\n",
    "a = np.array([[1,2,3],[4,5,6]])\n",
    "a[:, ::2] = 0\n",
    "a"
   ]
  }
 ],
 "metadata": {
  "kernelspec": {
   "display_name": "social",
   "language": "python",
   "name": "python3"
  },
  "language_info": {
   "codemirror_mode": {
    "name": "ipython",
    "version": 3
   },
   "file_extension": ".py",
   "mimetype": "text/x-python",
   "name": "python",
   "nbconvert_exporter": "python",
   "pygments_lexer": "ipython3",
   "version": "3.11.11"
  }
 },
 "nbformat": 4,
 "nbformat_minor": 2
}
