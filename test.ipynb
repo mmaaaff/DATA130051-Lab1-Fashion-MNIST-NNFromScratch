{
 "cells": [
  {
   "cell_type": "markdown",
   "metadata": {},
   "source": [
    "## Loading trained model and calculate accuracy on test data"
   ]
  },
  {
   "cell_type": "code",
   "execution_count": 1,
   "metadata": {},
   "outputs": [],
   "source": [
    "import numpy as np\n",
    "import MyDL\n",
    "import MyDL.nn as nn\n",
    "import os\n",
    "import fashion_mnist.utils.mnist_reader as mnist_reader\n"
   ]
  },
  {
   "cell_type": "code",
   "execution_count": 2,
   "metadata": {},
   "outputs": [],
   "source": [
    "X_test, y_test = mnist_reader.load_mnist('fashion_mnist/data/fashion', kind='t10k')\n",
    "X_test_mytensor = MyDL.MyTensor(X_test, requires_grad=False)\n",
    "y_test_mytensor = MyDL.MyTensor(y_test, requires_grad=False)\n",
    "test_data = MyDL.data.Dataset(X_test_mytensor, y_test_mytensor)"
   ]
  },
  {
   "cell_type": "code",
   "execution_count": 3,
   "metadata": {},
   "outputs": [],
   "source": [
    "class MLP3(nn.NeuralNetwork):\n",
    "    def __init__(self, hidden_size1=100, hidden_size2=10, activation='relu'):\n",
    "        super().__init__()\n",
    "        self.hidden_size1 = hidden_size1\n",
    "        self.hidden_size2 = hidden_size2\n",
    "        self.activ_func = activation\n",
    "        self.fc1 = nn.Linear(784, hidden_size1, initialize='random')\n",
    "        self.params += self.fc1.params\n",
    "        self.fc2 = nn.Linear(hidden_size1, hidden_size2, initialize='random')\n",
    "        self.params += self.fc2.params\n",
    "        self.fc3 = nn.Linear(hidden_size2, 10, initialize='random')\n",
    "        self.params += self.fc3.params\n",
    "        if activation == 'relu':\n",
    "            self.activation = nn.ReLU()\n",
    "        elif activation == 'tanh':\n",
    "            self.activation = nn.Tanh()\n",
    "        else:\n",
    "            raise ValueError('Unknown activation function')\n",
    "        self.softmax = nn.Softmax()\n",
    "        self.BN1 = nn.BatchNorm1d()\n",
    "        self.BN2 = nn.BatchNorm1d()\n",
    "        self.BN3 = nn.BatchNorm1d()\n",
    "        self.params += self.BN1.params\n",
    "        self.params += self.BN2.params\n",
    "        self.params += self.BN3.params\n",
    "    def forward(self, x):\n",
    "        x = self.BN1(x)\n",
    "        x = self.fc1(x)\n",
    "        x = self.BN2(x)\n",
    "        x = self.activation(x)\n",
    "        x = self.fc2(x)\n",
    "        x = self.BN3(x)\n",
    "        x = self.activation(x)\n",
    "        x = self.fc3(x)\n",
    "        x = self.softmax(x)\n",
    "        return x"
   ]
  },
  {
   "cell_type": "code",
   "execution_count": 4,
   "metadata": {},
   "outputs": [],
   "source": [
    "best_model_name = 'MLP3_(100,10)_tanh_L2-0.0_lr-0.1'"
   ]
  },
  {
   "cell_type": "code",
   "execution_count": 5,
   "metadata": {},
   "outputs": [
    {
     "name": "stdout",
     "output_type": "stream",
     "text": [
      "Train Accuracy: 0.865\n",
      "Test Accuracy: 0.850\n"
     ]
    }
   ],
   "source": [
    "model = MLP3(hidden_size1=100, hidden_size2=10, activation='tanh')\n",
    "model.load(os.path.join('final_model_params', f'{best_model_name}.npz'))\n",
    "best_model_name = 'MLP3_(100,10)_tanh_L2-0.0_lr-0.1'\n",
    "result = np.load(os.path.join('final_results', f'{best_model_name}.npz'))\n",
    "criterion = nn.CrossEntropyLoss()\n",
    "test_loss, test_acc = MyDL.test(model, test_data, criterion, batch_size = 4 * 256, load_and_eval=True)\n",
    "print(f\"Train Accuracy: {result['train_acc_epoch'][-1]:.3f}\")\n",
    "print(f\"Test Accuracy: {test_acc:.3f}\")"
   ]
  }
 ],
 "metadata": {
  "kernelspec": {
   "display_name": "venv",
   "language": "python",
   "name": "python3"
  },
  "language_info": {
   "codemirror_mode": {
    "name": "ipython",
    "version": 3
   },
   "file_extension": ".py",
   "mimetype": "text/x-python",
   "name": "python",
   "nbconvert_exporter": "python",
   "pygments_lexer": "ipython3",
   "version": "3.11.4"
  }
 },
 "nbformat": 4,
 "nbformat_minor": 2
}
