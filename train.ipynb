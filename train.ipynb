{
 "cells": [
  {
   "cell_type": "markdown",
   "metadata": {},
   "source": [
    "## Preparation"
   ]
  },
  {
   "cell_type": "code",
   "execution_count": 1,
   "metadata": {},
   "outputs": [],
   "source": [
    "import os\n",
    "import numpy as np\n",
    "import MyDL\n",
    "from MyDL import nn as nn\n",
    "import MyDL.optimizer as optim\n",
    "import MyDL.data as data"
   ]
  },
  {
   "cell_type": "code",
   "execution_count": 6,
   "metadata": {},
   "outputs": [],
   "source": [
    "import fashion_mnist.utils.mnist_reader as mnist_reader\n",
    "X_train, y_train = mnist_reader.load_mnist('fashion_mnist/data/fashion', kind='train')\n",
    "X_test, y_test = mnist_reader.load_mnist('fashion_mnist/data/fashion', kind='t10k')\n",
    "X_train_mytensor = MyDL.MyTensor(X_train, requires_grad=False)\n",
    "X_test_mytensor = MyDL.MyTensor(X_test, requires_grad=False)\n",
    "y_train_mytensor = MyDL.MyTensor(y_train, requires_grad=False)\n",
    "y_test_mytensor = MyDL.MyTensor(y_test, requires_grad=False)\n",
    "\n",
    "train_data = data.Dataset(X_train_mytensor, y_train_mytensor)\n",
    "test_data = data.Dataset(X_test_mytensor, y_test_mytensor)"
   ]
  },
  {
   "cell_type": "markdown",
   "metadata": {},
   "source": [
    "## Define the model"
   ]
  },
  {
   "cell_type": "code",
   "execution_count": 7,
   "metadata": {},
   "outputs": [],
   "source": [
    "class MLP3(nn.NeuralNetwork):\n",
    "    def __init__(self, hidden_size1=100, hidden_size2=10, activation='relu'):\n",
    "        super().__init__()\n",
    "        self.hidden_size1 = hidden_size1\n",
    "        self.hidden_size2 = hidden_size2\n",
    "        self.activ_func = activation\n",
    "        self.fc1 = nn.Linear(784, hidden_size1, initialize='random')\n",
    "        self.params += self.fc1.params\n",
    "        self.fc2 = nn.Linear(hidden_size1, hidden_size2, initialize='random')\n",
    "        self.params += self.fc2.params\n",
    "        self.fc3 = nn.Linear(hidden_size2, 10, initialize='random')\n",
    "        self.params += self.fc3.params\n",
    "        if activation == 'relu':\n",
    "            self.activation = nn.ReLU()\n",
    "        elif activation == 'tanh':\n",
    "            self.activation = nn.Tanh()\n",
    "        else:\n",
    "            raise ValueError('Unknown activation function')\n",
    "        self.softmax = nn.Softmax()\n",
    "        self.BN = nn.BatchNorm1d()\n",
    "    def forward(self, x):\n",
    "        x = self.BN(x)\n",
    "        x = self.fc1(x)\n",
    "        x = self.BN(x)\n",
    "        x = self.activation(x)\n",
    "        x = self.fc2(x)\n",
    "        x = self.BN(x)\n",
    "        x = self.activation(x)\n",
    "        x = self.fc3(x)\n",
    "        x = self.softmax(x)\n",
    "        return x"
   ]
  },
  {
   "cell_type": "markdown",
   "metadata": {},
   "source": [
    "## Training the best-performing model on whole training data"
   ]
  },
  {
   "cell_type": "code",
   "execution_count": 8,
   "metadata": {},
   "outputs": [
    {
     "name": "stdout",
     "output_type": "stream",
     "text": [
      "Best model: MLP3_(100,10)_tanh_L2-0.0_lr-0.01\n",
      "Train loss: 0.39  Val loss: 0.42  Train acc: 0.862  Val acc: 0.849\n"
     ]
    }
   ],
   "source": [
    "best_model_name = 'MLP3_(100,10)_tanh_L2-0.0_lr-0.01'\n",
    "print(f'Best model: {best_model_name}')\n",
    "with np.load(os.path.join('results', f'{best_model_name}.npz')) as result:\n",
    "    train_loss = result['train_loss']\n",
    "    val_loss = result['val_loss']\n",
    "    train_acc = result['train_acc']\n",
    "    val_acc = result['val_acc']\n",
    "print(f'Train loss: {train_loss[-1]:.3}  Val loss: {val_loss[-1]:.3}  Train acc: {train_acc[-1]:.3}  Val acc: {val_acc[-1]:.3}')"
   ]
  },
  {
   "cell_type": "code",
   "execution_count": null,
   "metadata": {},
   "outputs": [],
   "source": [
    "continue_if_exists = True\n",
    "num_epochs = 30\n",
    "lambda_L2 = 0.0\n",
    "model = MLP3(hidden_size1=100, hidden_size2=10, activation='tanh')\n",
    "model.train()\n",
    "criterion = nn.CrossEntropyLoss()\n",
    "optimizer = optim.Adam(model.params, lr=0.01, decay_rate=0.3)  # lr decays much faster than the first train\n",
    "train_loss, val_loss, train_acc, val_acc, continued_train = MyDL.train(model, criterion, optimizer, train_data, test_data, num_epochs=num_epochs, batch_size=256, lambda_L2=lambda_L2, path='final_model_params', continue_if_exists=continue_if_exists)\n",
    "MyDL.save_loss(train_loss, val_loss, train_acc, val_acc, best_model_name, continued_train, path='final_results')"
   ]
  },
  {
   "cell_type": "markdown",
   "metadata": {},
   "source": [
    "## Plotting the loss curve"
   ]
  },
  {
   "cell_type": "code",
   "execution_count": null,
   "metadata": {},
   "outputs": [],
   "source": [
    "import os\n",
    "import matplotlib.pyplot as plt\n",
    "\n",
    "# Plotting the loss curve\n",
    "plt.plot(train_loss, label='Train Loss')\n",
    "plt.plot(val_loss, label='Validation Loss')\n",
    "plt.xlabel('Epoch')\n",
    "plt.ylabel('Loss')\n",
    "plt.title('Loss Curve')\n",
    "plt.legend()\n",
    "plt.show()\n",
    "plt.savefig('final_results/loss_curve.png')"
   ]
  },
  {
   "cell_type": "markdown",
   "metadata": {},
   "source": [
    "## Visualizing model parameters"
   ]
  },
  {
   "cell_type": "code",
   "execution_count": null,
   "metadata": {},
   "outputs": [],
   "source": [
    "model = MLP3(hidden_size1=100, hidden_size2=10, activation='tanh')\n",
    "model.load(os.path.join('final_model_params', f'{best_model_name}.npz'))"
   ]
  },
  {
   "cell_type": "code",
   "execution_count": null,
   "metadata": {},
   "outputs": [],
   "source": [
    "import matplotlib.pyplot as plt\n",
    "# Visualizing the first layer\n",
    "for param_name, param in zip(['Layer1-weights', 'Layer1-biases'] ,model.params[:2]):\n",
    "    param = param.data\n",
    "    reshaped = param.T.reshape(-1, 28, 28)\n",
    "    fig, axs = plt.subplots(10, 10, figsize=(10, 10))\n",
    "    for i in range(reshaped.shape[0]):\n",
    "        axs[i//10, i%10].imshow(reshaped[i], cmap='viridis')\n",
    "        axs[i//10, i%10].axis('off')\n",
    "    plt.suptitle(param_name)\n",
    "    plt.show()\n",
    "    plt.savefig(f'final_results/{param_name}.png')\n",
    "\n",
    "# visualizing the after layers\n",
    "for param_name, param in zip(['Layer2-weights', 'Layer2-biases', 'Layer3-weights', 'Layer3-biases'] ,model.params[2:]):\n",
    "    param = param.data\n",
    "    plt.figure(figsize=(10, 10))\n",
    "    plt.title(param_name)\n",
    "    plt.hist(param)\n",
    "    plt.xlabel('Value')\n",
    "    plt.ylabel('Frequency')\n",
    "    plt.show()\n",
    "    plt.savefig(f'final_results/{param_name}.png')\n",
    "\n"
   ]
  }
 ],
 "metadata": {
  "kernelspec": {
   "display_name": "venv",
   "language": "python",
   "name": "python3"
  },
  "language_info": {
   "codemirror_mode": {
    "name": "ipython",
    "version": 3
   },
   "file_extension": ".py",
   "mimetype": "text/x-python",
   "name": "python",
   "nbconvert_exporter": "python",
   "pygments_lexer": "ipython3",
   "version": "3.11.4"
  }
 },
 "nbformat": 4,
 "nbformat_minor": 2
}
