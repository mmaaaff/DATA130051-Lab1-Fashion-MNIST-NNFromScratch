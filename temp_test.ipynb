{
 "cells": [
  {
   "cell_type": "code",
   "execution_count": 42,
   "metadata": {},
   "outputs": [
    {
     "name": "stdout",
     "output_type": "stream",
     "text": [
      "test1 test2\n",
      "test1 [1 2 3]\n",
      "test2 [4 5 6]\n"
     ]
    }
   ],
   "source": [
    "import numpy as np\n",
    "a = np.array([1, 2, 3])\n",
    "b = np.array([4, 5, 6])\n",
    "np.savez(**{'file': 'test.npz', 'test1': a, 'test2': b })\n",
    "def load_data(filename):\n",
    "    data = np.load(filename)\n",
    "    return data\n",
    "data = load_data('test.npz')\n",
    "print(*data)\n",
    "for key in data:\n",
    "    print(key, data[key])\n",
    "data = {key: data[key] for key in data}"
   ]
  }
 ],
 "metadata": {
  "kernelspec": {
   "display_name": "venv",
   "language": "python",
   "name": "python3"
  },
  "language_info": {
   "codemirror_mode": {
    "name": "ipython",
    "version": 3
   },
   "file_extension": ".py",
   "mimetype": "text/x-python",
   "name": "python",
   "nbconvert_exporter": "python",
   "pygments_lexer": "ipython3",
   "version": "3.11.4"
  }
 },
 "nbformat": 4,
 "nbformat_minor": 2
}
